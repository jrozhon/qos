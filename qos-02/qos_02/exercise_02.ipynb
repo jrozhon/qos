{
 "cells": [
  {
   "cell_type": "markdown",
   "id": "fd8ffaf0-b075-4dfa-a25d-30ce96d4c360",
   "metadata": {},
   "source": [
    "# Imports and styles"
   ]
  },
  {
   "cell_type": "code",
   "execution_count": null,
   "id": "ee6d1b23-91f8-4940-a540-992e78537d7a",
   "metadata": {},
   "outputs": [],
   "source": [
    "import simpy\n",
    "from lib.core import NetworkTap, Switch, PacketSource, PacketSink, SwitchPort, PacketFork\n",
    "import numpy as np\n",
    "from functools import partial\n",
    "import matplotlib.pyplot as plt\n",
    "import matplotlib.image as image\n",
    "from lib.params import colors, rc_params\n",
    "from IPython.display import display, HTML\n",
    "\n",
    "# Define a style for the dashboard\n",
    "dashboard_style = \"\"\"\n",
    "<style>\n",
    "  .dashboard {\n",
    "      display: grid;\n",
    "      grid-template-columns: repeat(2, 1fr);\n",
    "      gap: 20px;\n",
    "      margin: 20px 0;\n",
    "  }\n",
    "  .card {\n",
    "      background-color: #f9f9f9;\n",
    "      border-radius: 8px;\n",
    "      padding: 15px;\n",
    "      box-shadow: 0 2px 4px rgba(0, 0, 0, 0.1);\n",
    "  }\n",
    "  .card h3 {\n",
    "      margin-top: 0;\n",
    "      color: #333;\n",
    "  }\n",
    "  .card p {\n",
    "      margin: 5px 0;\n",
    "      color: #555;\n",
    "  }\n",
    "</style>\n",
    "\"\"\"\n",
    "\n",
    "%load_ext autoreload\n",
    "%autoreload 2\n",
    "\n",
    "rng = np.random.default_rng()"
   ]
  },
  {
   "cell_type": "markdown",
   "id": "cfa7cb74-377d-4c59-b8a9-b427a2293384",
   "metadata": {},
   "source": [
    "# Utility functions"
   ]
  },
  {
   "cell_type": "code",
   "execution_count": null,
   "id": "0f4ce870-4f2f-4635-ad8d-009eb635d1da",
   "metadata": {},
   "outputs": [],
   "source": [
    "def add_logo(f):\n",
    "    im = image.imread(\"logo.png\")\n",
    "    # put a new axes where you want the image to appear\n",
    "    # (x, y, width, height)\n",
    "    imax = fig.add_axes([.83, .9, 0.1, 0.1])\n",
    "    # remove ticks & the box from imax \n",
    "    imax.set_axis_off()\n",
    "    # print the logo with aspect=\"equal\" to avoid distorting the logo\n",
    "    imax.imshow(im, aspect=\"equal\")\n",
    "    return"
   ]
  },
  {
   "cell_type": "markdown",
   "id": "597fe271-6f03-4a8e-b567-85eb0bc40cd1",
   "metadata": {},
   "source": [
    "# Credits\n",
    "The original idea and implementation for this exercise comes from the website of Greg Bernstein that can be viewed here: https://www.grotto-networking.com/DiscreteEventPython.html"
   ]
  },
  {
   "cell_type": "markdown",
   "id": "39282594-b7e5-4559-af85-a315bb22b1c4",
   "metadata": {},
   "source": [
    "# Uniform distribution"
   ]
  },
  {
   "cell_type": "markdown",
   "id": "cbe48ad4-25fc-4591-8d12-7f509cae92fa",
   "metadata": {},
   "source": [
    "https://numpy.org/doc/stable/reference/random/generated/numpy.random.Generator.random.html#numpy.random.Generator.random"
   ]
  },
  {
   "cell_type": "code",
   "execution_count": null,
   "id": "e317568e-229f-4633-b6a8-5d553b970b0e",
   "metadata": {},
   "outputs": [],
   "source": [
    "SIZE = 10000"
   ]
  },
  {
   "cell_type": "code",
   "execution_count": null,
   "id": "9b1d675e-dd87-420f-88b6-2e8050ad34db",
   "metadata": {},
   "outputs": [],
   "source": [
    "x = rng.random(size=SIZE)\n",
    "x, x.min(),x.mean(),x.max()"
   ]
  },
  {
   "cell_type": "code",
   "execution_count": null,
   "id": "d12d9e90-24f1-44b0-ad8e-02dbaaa59f0c",
   "metadata": {},
   "outputs": [],
   "source": [
    "plt.rcParams.update(rc_params)\n",
    "fig, ax = plt.subplots(figsize=(10,6))\n",
    "\n",
    "add_logo(fig)\n",
    "\n",
    "ax.hist(x, color=colors[0], rwidth=0.5, bins=50)\n",
    "ax.set_xlabel(\"Value [-]\")\n",
    "ax.set_ylabel(\"Frequency [-]\")\n",
    "ax.set_title(\"Histogram of Uniformly Distributed Var.\")\n",
    "plt.show()"
   ]
  },
  {
   "cell_type": "markdown",
   "id": "b990c467-53b2-4840-8f28-6adf058e692f",
   "metadata": {},
   "source": [
    "# Exponential distribution"
   ]
  },
  {
   "cell_type": "markdown",
   "id": "485ba7ac-b037-4008-b9ed-c84898b684bd",
   "metadata": {},
   "source": [
    "https://numpy.org/doc/stable/reference/random/generated/numpy.random.Generator.exponential.html"
   ]
  },
  {
   "cell_type": "code",
   "execution_count": null,
   "id": "62a6dda8-caf7-4951-86a3-79c55ea95e85",
   "metadata": {},
   "outputs": [],
   "source": [
    "x = rng.exponential(scale=1, size=SIZE)\n",
    "x, x.min(),x.mean(),x.max()"
   ]
  },
  {
   "cell_type": "code",
   "execution_count": null,
   "id": "6849e2af-dafc-4af2-9b22-2e7afefc0027",
   "metadata": {},
   "outputs": [],
   "source": [
    "plt.rcParams.update(rc_params)\n",
    "fig, ax = plt.subplots(figsize=(10,6))\n",
    "\n",
    "add_logo(fig)\n",
    "\n",
    "ax.hist(x, color=colors[0], rwidth=0.5, bins=50)\n",
    "ax.set_xlabel(\"Value [-]\")\n",
    "ax.set_ylabel(\"Frequency [-]\")\n",
    "ax.set_title(\"Histogram of Exp. Distributed Var.\")\n",
    "plt.show()"
   ]
  },
  {
   "cell_type": "markdown",
   "id": "1cb7cf65-fa16-4ae9-bad0-3a9361f8a665",
   "metadata": {},
   "source": [
    "# Normal distribution"
   ]
  },
  {
   "cell_type": "markdown",
   "id": "294170fa-7f06-4587-98b4-252e7c166397",
   "metadata": {},
   "source": [
    "https://numpy.org/doc/stable/reference/random/generated/numpy.random.Generator.normal.html"
   ]
  },
  {
   "cell_type": "code",
   "execution_count": null,
   "id": "226a9f91-ff53-4e36-9aff-c8f2c0410803",
   "metadata": {},
   "outputs": [],
   "source": [
    "x = rng.normal(loc=0, scale=1, size=SIZE)\n",
    "x, x.min(),x.mean(),x.max()"
   ]
  },
  {
   "cell_type": "code",
   "execution_count": null,
   "id": "8402fdf5-8a7a-40ef-86ea-4840bc0a0f1d",
   "metadata": {},
   "outputs": [],
   "source": [
    "plt.rcParams.update(rc_params)\n",
    "fig, ax = plt.subplots(figsize=(10,6))\n",
    "\n",
    "add_logo(fig)\n",
    "\n",
    "ax.hist(x, color=colors[0], rwidth=0.5, bins=50)\n",
    "ax.set_xlabel(\"Value [-]\")\n",
    "ax.set_ylabel(\"Frequency [-]\")\n",
    "ax.set_title(\"Histogram of Normally Distributed Var.\")\n",
    "plt.show()"
   ]
  },
  {
   "cell_type": "markdown",
   "id": "07a1b4be-3ae4-492d-85f3-cff1f8948196",
   "metadata": {},
   "source": [
    "# Simulation Source - Sink"
   ]
  },
  {
   "cell_type": "code",
   "execution_count": null,
   "id": "bfc7cc60-024e-4b21-89a1-af12df09371a",
   "metadata": {},
   "outputs": [],
   "source": [
    "# create Simpy environment\n",
    "env = simpy.Environment()\n",
    "\n",
    "# create simple sink for packets\n",
    "sink = PacketSink(env, \"sink\", debug=True)\n",
    "\n",
    "# create a packet source\n",
    "source = PacketSource(\n",
    "    env,\n",
    "    \"source01\",\n",
    "    packet_interval=1, # interval between individual packets in simulation units\n",
    "    packet_size=10 # packet size in Bytes\n",
    ")\n",
    "\n",
    "# link them together\n",
    "source.destination = sink\n",
    "\n",
    "# run the simulation\n",
    "simulation_time = 20\n",
    "env.run(until=simulation_time)"
   ]
  },
  {
   "cell_type": "markdown",
   "id": "53f4ec26-ef10-4b96-9f2b-4fb5db8fcc14",
   "metadata": {},
   "source": [
    "## Task\n",
    "* Modify the simulation code above to have 2 packet sources with varying sizes and interarrival times.\n",
    "* Using the built-in partial function, experiment with the use of statistical distributions for packet sizes and interarrivals."
   ]
  },
  {
   "cell_type": "markdown",
   "id": "33383e97-13b8-448d-98ac-fc49c1ee38c6",
   "metadata": {},
   "source": [
    "# Simulation Source - Switch - Sink"
   ]
  },
  {
   "cell_type": "code",
   "execution_count": null,
   "id": "b92b4646-f8d3-4c09-834c-1382ffebba6c",
   "metadata": {},
   "outputs": [],
   "source": [
    "env = simpy.Environment()\n",
    "\n",
    "sink = PacketSink(env, \"sink\", debug=True)\n",
    "\n",
    "switch = Switch(\n",
    "    env,\n",
    "    \"switch01\",\n",
    "    num_ports=4, # how many ports does the switch have. IMPORTANT: port is a bi-partisan connection so it actually represents 2 physical ports on a real-world switch\n",
    "    port_capacity=100, # queue lenght in Bytes\n",
    "    port_transmission_rate=1000 # bits/s\n",
    ") \n",
    "\n",
    "source = PacketSource(env, \"source01\", packet_interval=partial(rng.normal, 2,0.5), packet_size=partial(rng.exponential, 50))\n",
    "\n",
    "\n",
    "source.destination = switch.ports[0]\n",
    "switch.ports[0].destination = sink\n",
    "\n",
    "simulation_time = 200\n",
    "env.run(until=simulation_time)"
   ]
  },
  {
   "cell_type": "markdown",
   "id": "f8fb1ea5-f139-476f-ad87-2799a7637d40",
   "metadata": {},
   "source": [
    "## Task\n",
    "- How long were packets in the system? "
   ]
  },
  {
   "cell_type": "markdown",
   "id": "118d8130-3c79-434f-88c1-705b9d704d67",
   "metadata": {},
   "source": [
    "# Simulation Source - Switch - Sink with Network Tap"
   ]
  },
  {
   "cell_type": "code",
   "execution_count": null,
   "id": "e6510fcc-c6a7-40a1-9bed-4501c3c980e7",
   "metadata": {},
   "outputs": [],
   "source": [
    "env = simpy.Environment()\n",
    "\n",
    "sink = PacketSink(env, \"sink\", debug=True)\n",
    "\n",
    "switch = Switch(\n",
    "    env,\n",
    "    \"switch01\",\n",
    "    num_ports=4, # how many ports does the switch have. IMPORTANT: port is a bi-partisan connection so it actually represents 2 physical ports on a real-world switch\n",
    "    port_capacity=100, # queue lenght in Bytes\n",
    "    port_transmission_rate=1000 # bits/s\n",
    ")\n",
    "tap = NetworkTap(\n",
    "    env,\n",
    "    port=switch.ports[0] # port to be monitored\n",
    ")\n",
    "\n",
    "source = PacketSource(env, \"source01\", packet_interval=partial(rng.normal, 2,0.5), packet_size=partial(rng.exponential, 50))\n",
    "\n",
    "\n",
    "source.destination = switch.ports[0]\n",
    "switch.ports[0].destination = sink\n",
    "\n",
    "simulation_time = 200\n",
    "env.run(until=simulation_time)"
   ]
  },
  {
   "cell_type": "code",
   "execution_count": null,
   "id": "1c36118b-0c7c-4ccd-9855-fb5c251ac5a4",
   "metadata": {},
   "outputs": [],
   "source": [
    "tap"
   ]
  },
  {
   "cell_type": "markdown",
   "id": "980606dd-6344-4564-afb2-480f66292c83",
   "metadata": {},
   "source": [
    "# M/M/1 System"
   ]
  },
  {
   "cell_type": "markdown",
   "id": "5b4094f4-f78a-41d6-9365-9335070b9491",
   "metadata": {},
   "source": [
    "### Simulation"
   ]
  },
  {
   "cell_type": "code",
   "execution_count": null,
   "id": "59b5bc4e",
   "metadata": {},
   "outputs": [],
   "source": [
    "adist = partial(rng.exponential, 2) \n",
    "sdist = partial(rng.exponential, 100) # mean size 100 bytes\n",
    "\n",
    "\n",
    "env = simpy.Environment()  # Create the SimPy environment\n",
    "# Create the packet generators and sink\n",
    "ps = PacketSink(env, sink_id=\"Sink1\", debug=False)\n",
    "pg = PacketSource(env, \"Generator1\", packet_interval=adist, packet_size=sdist, debug=False)\n",
    "\n",
    "switch = Switch(\n",
    "    env,\n",
    "    \"switch01\",\n",
    "    num_ports=1, # how many ports does the switch have. IMPORTANT: port is a bi-partisan connection so it actually represents 2 physical ports on a real-world switch\n",
    "    port_capacity=10000, # queue lenght in Bytes\n",
    "    port_transmission_rate=1000 # bits/s\n",
    ")\n",
    "tap = NetworkTap(\n",
    "    env,\n",
    "    port=switch.ports[0] # port to be monitored\n",
    ")\n",
    "\n",
    "pg.destination = switch.ports[0]\n",
    "switch.ports[0].destination = ps\n",
    "\n",
    "# Run it\n",
    "env.run(until=8000)"
   ]
  },
  {
   "cell_type": "markdown",
   "id": "75dd4e56-381e-4470-a6d1-439cdb3fcd5d",
   "metadata": {},
   "source": [
    "### Display Dashboard and Chart"
   ]
  },
  {
   "cell_type": "code",
   "execution_count": null,
   "id": "9396d30d-fe77-481f-ac73-c1aa8acf57b5",
   "metadata": {},
   "outputs": [],
   "source": [
    "\n",
    "# Display the style\n",
    "display(HTML(dashboard_style))\n",
    "\n",
    "# Create the dashboard layout\n",
    "dashboard_html = f\"\"\"\n",
    "<div class=\"dashboard\">\n",
    "  <div class=\"card\">\n",
    "      <h3>Last 10 Waits</h3>\n",
    "      <p>{', '.join([f'{x:.3f}' for x in ps.delays[-10:]])}</p>\n",
    "  </div>\n",
    "  <div class=\"card\">\n",
    "      <h3>Last 10 packet counts on Tap</h3>\n",
    "      <p>{', '.join(f'{x}' for x in tap.packet_count[-10:])}</p>\n",
    "  </div> \n",
    "  <div class=\"card\">\n",
    "      <h3>Last 10 byte counts on Tap</h3>\n",
    "      <p>{', '.join(f'{x}' for x in tap.byte_count[-10:])}</p>\n",
    "  </div>\n",
    "  <div class=\"card\">\n",
    "      <h3>Last 10 Sink Arrival Times</h3>\n",
    "      <p>{', '.join([f'{x:.3f}' for x in ps.arrivals[-10:]])}</p>\n",
    "  </div>\n",
    "  <div class=\"card\">\n",
    "      <h3>Average Wait</h3>\n",
    "      <p>{sum(ps.delays) / len(ps.delays):.3f}</p>\n",
    "  </div>\n",
    "  <div class=\"card\">\n",
    "      <h3>Processed and Dropped</h3>\n",
    "      <p>Processed: {switch.ports[0].cum_packet_count}, Dropped: {switch.ports[0].cum_drop_count}</p>\n",
    "  </div>\n",
    "  <div class=\"card\">\n",
    "      <h3>Loss Rate</h3>\n",
    "      <p>{float(switch.ports[0].cum_drop_count) / switch.ports[0].cum_packet_count:.3f}</p>\n",
    "  </div>\n",
    "  <div class=\"card\">\n",
    "      <h3>Average System Occupancy</h3>\n",
    "      <p>{float(sum(tap.packet_count)) / len(tap.packet_count):.3f}</p>\n",
    "  </div>\n",
    "</div>\n",
    "\"\"\"\n",
    "\n",
    "# Display the dashboard\n",
    "display(HTML(dashboard_html))\n",
    "\n",
    "\n",
    "plt.rcParams.update(rc_params)\n",
    "fig, ax = plt.subplots(figsize=(10,6))\n",
    "add_logo(fig)\n",
    "ax.hist(ps.interarrivals, bins=100, color=colors[0], rwidth=0.8)\n",
    "ax.set_xlabel(\"Time [STU]\")\n",
    "ax.set_ylabel(\"Frequency of Occurence [-]\")\n",
    "ax.set_title(\"Histogram of Inter-arrivals\")\n",
    "plt.show()"
   ]
  },
  {
   "cell_type": "code",
   "execution_count": null,
   "id": "7576c68e-7af8-4e19-9ee5-43c848351ba1",
   "metadata": {},
   "outputs": [],
   "source": []
  },
  {
   "cell_type": "markdown",
   "id": "d0b9880a-94f5-4472-aada-772eea61886f",
   "metadata": {},
   "source": [
    "# More complex systems of queues"
   ]
  },
  {
   "cell_type": "markdown",
   "id": "d2ed5e92-ff80-4984-a786-41086eb19d42",
   "metadata": {},
   "source": [
    "### Simulation"
   ]
  },
  {
   "cell_type": "code",
   "execution_count": null,
   "id": "c9cedaed",
   "metadata": {},
   "outputs": [],
   "source": [
    "mean_pkt_size = 100.0  # in bytes\n",
    "\n",
    "adist1 = partial(rng.exponential, 0.5)\n",
    "adist2 = partial(rng.exponential, 2)\n",
    "adist3 = partial(rng.exponential, 10/6)\n",
    "\n",
    "sdist = partial(rng.exponential, mean_pkt_size)\n",
    "\n",
    "samp_dist = partial(rng.exponential, 2)\n",
    "\n",
    "\n",
    "port_rate = 2.2*8*mean_pkt_size  # want a rate of 2.2 packets per second\n",
    "\n",
    "# Create the SimPy environment. This is the thing that runs the simulation.\n",
    "env = simpy.Environment()\n",
    "\n",
    "\n",
    "ps1 = PacketSink(env, sink_id=\"Sink1\", debug=False)\n",
    "ps2 = PacketSink(env, sink_id=\"Sink2\", debug=False)\n",
    "pg1 = PacketSource(env, \"GEN1\", packet_interval=adist1, packet_size=sdist)\n",
    "pg2 = PacketSource(env, \"GEN2\", packet_interval=adist2, packet_size=sdist)\n",
    "pg3 = PacketSource(env, \"GEN3\", packet_interval=adist3, packet_size=sdist)\n",
    "fork1 = PacketFork(env, [0.75, 0.25])\n",
    "fork2 = PacketFork(env, [0.65, 0.35])\n",
    "\n",
    "\n",
    "switch = Switch(\n",
    "    env,\n",
    "    \"switch01\",\n",
    "    num_ports=4, # how many ports does the switch have. IMPORTANT: port is a bi-partisan connection so it actually represents 2 physical ports on a real-world switch\n",
    "    port_capacity=10000, # queue lenght in Bytes\n",
    "    port_transmission_rate=port_rate # bits/s\n",
    ")\n",
    "tap = NetworkTap(\n",
    "    env,\n",
    "    port=switch.ports[0] # port to be monitored\n",
    ")\n",
    "\n",
    "pg.destination = switch.ports[0]\n",
    "switch.ports[0].destination = ps\n",
    "\n",
    "# Wire packet generators, switch ports, and sinks together\n",
    "pg1.destination = switch.ports[0]\n",
    "switch.ports[0].destination = fork1\n",
    "fork1.destinations[0] = switch.ports[1]\n",
    "switch.ports[1].destination = fork2\n",
    "fork2.destinations[0] = switch.ports[2]\n",
    "fork2.destinations[1] = switch.ports[3]\n",
    "pg3.destination = switch.ports[2]\n",
    "pg2.destination = switch.ports[3]\n",
    "switch.ports[2].destination = ps1\n",
    "switch.ports[3].destination = ps2\n",
    "# Run it\n",
    "env.run(until=4000)"
   ]
  },
  {
   "cell_type": "markdown",
   "id": "0e3d6310-31df-421d-b7be-cd39bef2e0f0",
   "metadata": {},
   "source": [
    "### Dashboard and Chart"
   ]
  },
  {
   "cell_type": "code",
   "execution_count": null,
   "id": "ae5ae486-d028-4e1a-bd08-a9f729b06e17",
   "metadata": {},
   "outputs": [],
   "source": [
    "\n",
    "# Display the style\n",
    "display(HTML(dashboard_style))\n",
    "\n",
    "# Create the dashboard layout\n",
    "dashboard_html = f\"\"\"\n",
    "<div class=\"dashboard\">\n",
    "  <div class=\"card\">\n",
    "      <h3>Last 10 Waits on PS2</h3>\n",
    "      <p>{', '.join([f'{x:.3f}' for x in ps2.delays[-10:]])}</p>\n",
    "  </div>\n",
    "  <div class=\"card\">\n",
    "      <h3>Average Port 0 Occupancy</h3>\n",
    "      <p>{float(sum(tap.packet_count)) / len(tap.packet_count):.3f}</p>\n",
    "  </div>\n",
    "</div>\n",
    "\"\"\"\n",
    "\n",
    "# Display the dashboard\n",
    "display(HTML(dashboard_html))\n",
    "\n",
    "\n",
    "plt.rcParams.update(rc_params)\n",
    "fig, ax = plt.subplots(figsize=(10,6))\n",
    "add_logo(fig)\n",
    "ax.hist(ps1.interarrivals, bins=100, color=colors[0], rwidth=0.8, alpha=0.5)\n",
    "ax.hist(ps2.interarrivals, bins=100, color=colors[1], rwidth=0.8, alpha=0.5)\n",
    "ax.set_xlabel(\"Time [STU]\")\n",
    "ax.set_ylabel(\"Frequency of Occurence [-]\")\n",
    "ax.set_title(\"Histogram of Inter-arrivals\")\n",
    "plt.show()"
   ]
  }
 ],
 "metadata": {
  "kernelspec": {
   "display_name": "Python 3 (ipykernel)",
   "language": "python",
   "name": "python3"
  },
  "language_info": {
   "codemirror_mode": {
    "name": "ipython",
    "version": 3
   },
   "file_extension": ".py",
   "mimetype": "text/x-python",
   "name": "python",
   "nbconvert_exporter": "python",
   "pygments_lexer": "ipython3",
   "version": "3.12.3"
  }
 },
 "nbformat": 4,
 "nbformat_minor": 5
}
