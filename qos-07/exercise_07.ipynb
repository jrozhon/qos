{
 "cells": [
  {
   "cell_type": "markdown",
   "metadata": {},
   "source": [
    "# Software-Defined Networks Emulation in Mininet"
   ]
  },
  {
   "cell_type": "markdown",
   "metadata": {},
   "source": [
    "Mininet is a network emulator that allows for rapid development of vast network architectures. Its limits lie with the hardware limits of the platform that runs the mininet. In this course, we will discuss some basic usage of mininet to emulate various network topologies.\n",
    "\n",
    "**IMPORTANT:** Mininet's *mn* wrapper works as a CLI so we cannot use it in the Jupyter. Instead, please use the remote console to the servers having the mininet package installed and ready. These servers are at:\n",
    "\n",
    "You can log in using standard ssh connection. From the terminal in your computer please use the following command.\n",
    "\n",
    "```bash\n",
    "ssh student@10.100.0.XX\n",
    "ssh student@158.196.244.134 -p XX22  \n",
    "\n",
    "XX: 41-53\n",
    "```\n",
    "The password for the connection is **student**.\n",
    "\n",
    "When you successfully log in, please elevate your permission level to root user, since mininet can only be used by root users.\n",
    "\n",
    "```bash\n",
    "su -\n",
    "```\n",
    "Password is again **student**."
   ]
  },
  {
   "cell_type": "markdown",
   "metadata": {},
   "source": [
    "## Running Mininet"
   ]
  },
  {
   "cell_type": "markdown",
   "metadata": {},
   "source": [
    "To define a custom topology, you can use a sceleton class in the cell below."
   ]
  },
  {
   "cell_type": "code",
   "execution_count": null,
   "metadata": {},
   "outputs": [],
   "source": [
    "from mininet.net import Mininet\n",
    "from mininet.topo import Topo\n",
    "from mininet.node import OVSSwitch, Controller\n",
    "from mininet.link import TCLink\n",
    "\n",
    "class CustomTopology(Topo):\n",
    "    def build(self):\n",
    "        # Add switches\n",
    "        s1 = self.addSwitch('s1')\n",
    "        s2 = self.addSwitch('s2')\n",
    "\n",
    "        # Add hosts\n",
    "        h1 = self.addHost('h1', ip='10.0.0.1/24')\n",
    "        h2 = self.addHost('h2', ip='10.0.0.2/24')\n",
    "        h3 = self.addHost('h3', ip='10.0.0.3/24')\n",
    "        h4 = self.addHost('h4', ip='10.0.0.4/24')\n",
    "\n",
    "        # Add links with QoS parameters\n",
    "        self.addLink(h1, s1, bw=1000, delay='1ms', loss=0, max_queue_size=1000, use_htb=True)\n",
    "        self.addLink(h2, s1, bw=1000, delay='1ms', loss=0, max_queue_size=1000, use_htb=True)\n",
    "        self.addLink(h3, s2, bw=1000, delay='1ms', loss=0, max_queue_size=1000, use_htb=True)\n",
    "        self.addLink(h4, s2, bw=1000, delay='1ms', loss=0, max_queue_size=1000, use_htb=True)\n",
    "        self.addLink(s1, s2, bw=1000, delay='5ms', loss=0, max_queue_size=1000, use_htb=True)\n",
    "\n",
    "def start_mininet():\n",
    "    topo = CustomTopology()\n",
    "    net = Mininet(topo=topo, switch=OVSSwitch, link=TCLink, controller=Controller)\n",
    "    net.start()\n",
    "\n",
    "    # Set QoS parameters for hosts\n",
    "    for host in net.hosts:\n",
    "        host.cmd('tc qdisc add dev {}-eth0 root handle 1: htb default 11'.format(host.name))\n",
    "        host.cmd('tc class add dev {}-eth0 parent 1: classid 1:1 htb rate 1000mbit'.format(host.name))\n",
    "        host.cmd('tc class add dev {}-eth0 parent 1:1 classid 1:11 htb rate 1000mbit'.format(host.name))\n",
    "        host.cmd('tc qdisc add dev {}-eth0 parent 1:11 handle 10: netem delay 5ms'.format(host.name))\n",
    "\n",
    "    net.interact()\n",
    "\n",
    "if __name__ == '__main__':\n",
    "    start_mininet()\n"
   ]
  },
  {
   "cell_type": "markdown",
   "metadata": {},
   "source": [
    "**tc qdisc add**\n",
    "\n",
    "handle 1:: Assigns a unique identifier (handle) to this qdisc. The 1: is the major identifier, and it uniquely identifies this qdisc in the system.\n",
    "\n",
    "htb: Specifies the Hierarchical Token Bucket algorithm for bandwidth management.\n",
    "\n",
    "default 11: Sets the default class for traffic that doesn't match any specific class to class 1:11.\n",
    "\n",
    "**tc class add**\n",
    "\n",
    "parent 1:: Indicates that this class is a child of the qdisc with the handle 1:.\n",
    "\n",
    "classid 1:1: Assigns a unique identifier to this class within the qdisc. The major identifier is 1: and the minor identifier is 1.\n",
    "\n",
    "htb: Specifies the use of the Hierarchical Token Bucket algorithm.\n",
    "\n",
    "**The structure includes a root qdisc with a handle of 1:, a class with classid 1:1 as a child of the root qdisc, and another qdisc as a child of the class with classid 1:11. The netem command is then used to introduce a delay of 5 milliseconds to the outgoing packets of this last qdisc.**\n",
    "\n",
    "\n",
    "\n",
    "To run this topology, you can use the following command, which assumes that the file with the topology is called **ex.py**. **Important** for the network parameters to work as expected, **the link type must be set to tc**.\n",
    "\n",
    "```bash\n",
    "mn --custom=ex.py --topo mytopo --mac --link tc\n",
    "```"
   ]
  },
  {
   "cell_type": "markdown",
   "metadata": {},
   "source": [
    "### Task"
   ]
  },
  {
   "cell_type": "markdown",
   "metadata": {},
   "source": [
    "* Add network loss to the topology as well.\n",
    "* Measure the network performance using iperf tool."
   ]
  }
 ],
 "metadata": {
  "kernelspec": {
   "display_name": "Python 3",
   "language": "python",
   "name": "python3"
  },
  "language_info": {
   "codemirror_mode": {
    "name": "ipython",
    "version": 3
   },
   "file_extension": ".py",
   "mimetype": "text/x-python",
   "name": "python",
   "nbconvert_exporter": "python",
   "pygments_lexer": "ipython3",
   "version": "3.6.7"
  }
 },
 "nbformat": 4,
 "nbformat_minor": 2
}
