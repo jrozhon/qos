{
 "cells": [
  {
   "cell_type": "code",
   "execution_count": 5,
   "id": "c5f1a6ff",
   "metadata": {},
   "outputs": [],
   "source": [
    "# Import Image from wand.image module\n",
    "from wand.image import Image\n",
    "\n",
    "# Read image using Image() function\n",
    "with Image(filename =\"lenna.png\") as img:\n",
    "\n",
    "\t# Generate noise image using noise() function\n",
    "\timg.noise(\"poisson\", attenuate = 0.9)\n",
    "\timg.save(filename =\"lenna1.png\")\n"
   ]
  },
  {
   "cell_type": "code",
   "execution_count": 6,
   "id": "8eee28f1",
   "metadata": {},
   "outputs": [
    {
     "name": "stdout",
     "output_type": "stream",
     "text": [
      "PSNR is 14.46713684326306 dB\n",
      "PSNR is typically measured in decibels (dB), and higher values indicate better quality. A common range is 20-50 dB\n"
     ]
    }
   ],
   "source": [
    "##PSNR (Peak Signal-to-Noise Ratio:\n",
    "#apt install imagemagick\n",
    "#pip install opencv-python\n",
    "\n",
    "import math\n",
    "import numpy as np\n",
    "import cv2\n",
    "\n",
    "img_orig = cv2.imread(\"lenna.png\")\n",
    "img_compress = cv2.imread(\"lenna1.png\") \n",
    "\n",
    "\n",
    "def calculate_psnr(img1, img2):\n",
    "    # img1 and img2 have range [0, 255]\n",
    "    img1 = img1.astype(np.float64)\n",
    "    img2 = img2.astype(np.float64)\n",
    "    mse = np.mean((img1 - img2)**2)\n",
    "    if mse == 0:\n",
    "        return float('inf')\n",
    "    return 20 * math.log10(255.0 / math.sqrt(mse))\n",
    "\n",
    "\n",
    "print(\"PSNR is {} dB\".format(calculate_psnr(img_orig, img_compress)))\n",
    "print(\"PSNR is typically measured in decibels (dB), and higher values indicate better quality. A common range is 20-50 dB\")"
   ]
  },
  {
   "cell_type": "code",
   "execution_count": 7,
   "id": "e2ae31a3",
   "metadata": {},
   "outputs": [
    {
     "name": "stdout",
     "output_type": "stream",
     "text": [
      "SSIM map mean: 0.12781884308658775\n",
      "SSIM value: 0.12781884308658775\n"
     ]
    }
   ],
   "source": [
    "#SSIM (Structural Similarity Index)\n",
    "\n",
    "import math\n",
    "import numpy as np\n",
    "import cv2\n",
    "\n",
    "def ssim(img1, img2):\n",
    "    C1 = (0.01 * 255)**2\n",
    "    C2 = (0.03 * 255)**2\n",
    "\n",
    "    img1 = img1.astype(np.float64)\n",
    "    img2 = img2.astype(np.float64)\n",
    "    kernel = cv2.getGaussianKernel(11, 1.5)\n",
    "    window = np.outer(kernel, kernel.transpose())\n",
    "\n",
    "    mu1 = cv2.filter2D(img1, -1, window)[5:-5, 5:-5]  # valid\n",
    "    mu2 = cv2.filter2D(img2, -1, window)[5:-5, 5:-5]\n",
    "    mu1_sq = mu1**2\n",
    "    mu2_sq = mu2**2\n",
    "    mu1_mu2 = mu1 * mu2\n",
    "    sigma1_sq = cv2.filter2D(img1**2, -1, window)[5:-5, 5:-5] - mu1_sq\n",
    "    sigma2_sq = cv2.filter2D(img2**2, -1, window)[5:-5, 5:-5] - mu2_sq\n",
    "    sigma12 = cv2.filter2D(img1 * img2, -1, window)[5:-5, 5:-5] - mu1_mu2\n",
    "\n",
    "    ssim_map = ((2 * mu1_mu2 + C1) * (2 * sigma12 + C2)) / ((mu1_sq + mu2_sq + C1) *\n",
    "                                                            (sigma1_sq + sigma2_sq + C2))\n",
    "    return ssim_map.mean()\n",
    "\n",
    "\n",
    "def calculate_ssim(img1, img2):\n",
    "    '''calculate SSIM\n",
    "    the same outputs as MATLAB's\n",
    "    img1, img2: [0, 255]\n",
    "    '''\n",
    "    if not img1.shape == img2.shape:\n",
    "        raise ValueError('Input images must have the same dimensions.')\n",
    "    if img1.ndim == 2:\n",
    "        return ssim(img1, img2)\n",
    "    elif img1.ndim == 3:\n",
    "        if img1.shape[2] == 3:\n",
    "            ssims = []\n",
    "            for i in range(3):\n",
    "                ssims.append(ssim(img1, img2))\n",
    "            return np.array(ssims).mean()\n",
    "        elif img1.shape[2] == 1:\n",
    "            return ssim(np.squeeze(img1), np.squeeze(img2))\n",
    "    else:\n",
    "        raise ValueError('Wrong input image dimensions.')\n",
    "\n",
    "img_orig = cv2.imread(\"lenna.png\")\n",
    "img_compress = cv2.imread(\"lenna1.png\") \n",
    "\n",
    "print(\"SSIM map mean: {}\".format(ssim(img_orig, img_compress)))\n",
    "print(\"SSIM value: {}\".format(calculate_ssim(img_orig, img_compress)))\n",
    "print(\"SSIM values range from -1 to 1, with 1 indicating perfect similarity. A value of 1 suggests that the reference and distorted images are identical.\")\n",
    "\n",
    "\n"
   ]
  },
  {
   "cell_type": "code",
   "execution_count": 8,
   "id": "66eb40e7",
   "metadata": {},
   "outputs": [
    {
     "data": {
      "text/plain": [
       "True"
      ]
     },
     "execution_count": 8,
     "metadata": {},
     "output_type": "execute_result"
    }
   ],
   "source": [
    "#To add noise to only a few pixels in an image, you can follow these steps using Python and a library like OpenCV or NumPy.\n",
    "import numpy as np\n",
    "import cv2\n",
    "import random\n",
    "\n",
    "image = cv2.imread(\"lenna.png\")\n",
    "\n",
    "# Determine the locations in the image where you want to add noise. You can randomly select a few pixel coordinates or define specific locations.\n",
    "\n",
    "# Example: Generate random pixel coordinates for noise addition\n",
    "num_pixels_to_noise = 100  # Adjust the number of pixels you want to add noise to\n",
    "height, width, _ = image.shape\n",
    "pixel_coordinates = [(random.randint(0, width - 1), random.randint(0, height - 1)) for _ in range(num_pixels_to_noise)]\n",
    "\n",
    "# Add noise to the selected pixels. You can choose to add different types of noise, such as Gaussian noise or salt-and-pepper noise. \n",
    "# Here's an example of adding Gaussian noise:\n",
    "\n",
    "for x, y in pixel_coordinates:\n",
    "    image[y, x] = [random.randint(0, 255), random.randint(0, 255), random.randint(0, 255)]  # Random RGB values\n",
    "\n",
    "cv2.imwrite(\"noisy_image.png\", image)\n",
    "\n",
    "\n"
   ]
  }
 ],
 "metadata": {
  "kernelspec": {
   "display_name": "Python 3 (ipykernel)",
   "language": "python",
   "name": "python3"
  },
  "language_info": {
   "codemirror_mode": {
    "name": "ipython",
    "version": 3
   },
   "file_extension": ".py",
   "mimetype": "text/x-python",
   "name": "python",
   "nbconvert_exporter": "python",
   "pygments_lexer": "ipython3",
   "version": "3.11.3"
  }
 },
 "nbformat": 4,
 "nbformat_minor": 5
}
