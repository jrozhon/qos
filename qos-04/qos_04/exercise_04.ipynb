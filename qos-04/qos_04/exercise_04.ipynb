{
 "cells": [
  {
   "cell_type": "code",
   "execution_count": 1,
   "id": "c5f1a6ff",
   "metadata": {},
   "outputs": [],
   "source": [
    "# Import Image from wand.image module\n",
    "from wand.image import Image\n",
    "\n",
    "# Read image using Image() function\n",
    "with Image(filename =\"lenna.png\") as img:\n",
    "\n",
    "\t# Generate noise image using noise() function\n",
    "\timg.noise(\"poisson\", attenuate = 0.9)\n",
    "\timg.save(filename =\"lenna1.png\")\n"
   ]
  },
  {
   "cell_type": "code",
   "execution_count": 2,
   "id": "8eee28f1",
   "metadata": {},
   "outputs": [
    {
     "name": "stdout",
     "output_type": "stream",
     "text": [
      "PSNR is 14.463138232110921 dB\n"
     ]
    }
   ],
   "source": [
    "##PSNR (Peak Signal-to-Noise Ratio:\n",
    "#apt install imagemagick\n",
    "#pip install opencv-python\n",
    "\n",
    "import math\n",
    "import numpy as np\n",
    "import cv2\n",
    "\n",
    "img_orig = cv2.imread(\"lenna.png\")\n",
    "img_compress = cv2.imread(\"lenna1.png\") \n",
    "\n",
    "\n",
    "def calculate_psnr(img1, img2):\n",
    "    # img1 and img2 have range [0, 255]\n",
    "    img1 = img1.astype(np.float64)\n",
    "    img2 = img2.astype(np.float64)\n",
    "    mse = np.mean((img1 - img2)**2)\n",
    "    if mse == 0:\n",
    "        return float('inf')\n",
    "    return 20 * math.log10(255.0 / math.sqrt(mse))\n",
    "\n",
    "\n",
    "print(\"PSNR is {} dB\".format(calculate_psnr(img_orig, img_compress)))"
   ]
  },
  {
   "cell_type": "code",
   "execution_count": 3,
   "id": "e2ae31a3",
   "metadata": {},
   "outputs": [
    {
     "name": "stdout",
     "output_type": "stream",
     "text": [
      "SSIM map mean: 0.12679715776948902\n",
      "SSIM value: 0.12679715776948902\n"
     ]
    }
   ],
   "source": [
    "#SSIM (Structural Similarity Index)\n",
    "\n",
    "import math\n",
    "import numpy as np\n",
    "import cv2\n",
    "\n",
    "def ssim(img1, img2):\n",
    "    C1 = (0.01 * 255)**2\n",
    "    C2 = (0.03 * 255)**2\n",
    "\n",
    "    img1 = img1.astype(np.float64)\n",
    "    img2 = img2.astype(np.float64)\n",
    "    kernel = cv2.getGaussianKernel(11, 1.5)\n",
    "    window = np.outer(kernel, kernel.transpose())\n",
    "\n",
    "    mu1 = cv2.filter2D(img1, -1, window)[5:-5, 5:-5]  # valid\n",
    "    mu2 = cv2.filter2D(img2, -1, window)[5:-5, 5:-5]\n",
    "    mu1_sq = mu1**2\n",
    "    mu2_sq = mu2**2\n",
    "    mu1_mu2 = mu1 * mu2\n",
    "    sigma1_sq = cv2.filter2D(img1**2, -1, window)[5:-5, 5:-5] - mu1_sq\n",
    "    sigma2_sq = cv2.filter2D(img2**2, -1, window)[5:-5, 5:-5] - mu2_sq\n",
    "    sigma12 = cv2.filter2D(img1 * img2, -1, window)[5:-5, 5:-5] - mu1_mu2\n",
    "\n",
    "    ssim_map = ((2 * mu1_mu2 + C1) * (2 * sigma12 + C2)) / ((mu1_sq + mu2_sq + C1) *\n",
    "                                                            (sigma1_sq + sigma2_sq + C2))\n",
    "    return ssim_map.mean()\n",
    "\n",
    "\n",
    "def calculate_ssim(img1, img2):\n",
    "    '''calculate SSIM\n",
    "    the same outputs as MATLAB's\n",
    "    img1, img2: [0, 255]\n",
    "    '''\n",
    "    if not img1.shape == img2.shape:\n",
    "        raise ValueError('Input images must have the same dimensions.')\n",
    "    if img1.ndim == 2:\n",
    "        return ssim(img1, img2)\n",
    "    elif img1.ndim == 3:\n",
    "        if img1.shape[2] == 3:\n",
    "            ssims = []\n",
    "            for i in range(3):\n",
    "                ssims.append(ssim(img1, img2))\n",
    "            return np.array(ssims).mean()\n",
    "        elif img1.shape[2] == 1:\n",
    "            return ssim(np.squeeze(img1), np.squeeze(img2))\n",
    "    else:\n",
    "        raise ValueError('Wrong input image dimensions.')\n",
    "\n",
    "img_orig = cv2.imread(\"lenna.png\")\n",
    "img_compress = cv2.imread(\"lenna1.png\") \n",
    "\n",
    "print(\"SSIM map mean: {}\".format(ssim(img_orig, img_compress)))\n",
    "print(\"SSIM value: {}\".format(calculate_ssim(img_orig, img_compress)))\n",
    "\n",
    "\n"
   ]
  },
  {
   "cell_type": "markdown",
   "id": "e3ff1d84",
   "metadata": {},
   "source": [
    "PSNR (Peak Signal-to-Noise Ratio) and SSIM (Structural Similarity Index) are two different metrics used to evaluate the quality of an image or video. They assess quality in slightly different ways, and their primary distinctions are as follows:\n",
    "\n",
    "Measurement Type:\n",
    "\n",
    "PSNR: PSNR measures the quality of an image or video by evaluating the amount of noise or distortion present. It calculates the ratio of the peak signal power to the power of the noise. In simple terms, it quantifies how much an image or video has deviated from the original in terms of pixel values.\n",
    "SSIM: SSIM assesses the structural similarity between the reference (original) and distorted (received or processed) images or videos. It considers not only pixel-wise differences but also structural information such as luminance, contrast, and structure.\n",
    "Perceptual Consideration:\n",
    "\n",
    "PSNR: PSNR is a purely mathematical and technical metric. It doesn't consider human perception of image or video quality. A higher PSNR value indicates less distortion, but it may not correlate well with what humans perceive as better quality.\n",
    "SSIM: SSIM takes into account the human visual system's characteristics. It considers aspects like luminance, contrast, and structural information that align more closely with human perception. Consequently, a higher SSIM value is often associated with higher perceptual quality.\n",
    "Sensitivity to Compression and Artifacts:\n",
    "\n",
    "PSNR: PSNR is sensitive to compression artifacts. It can sometimes produce high values for heavily compressed content that may not look good to human viewers.\n",
    "SSIM: SSIM is more robust in assessing compression and other types of distortions. It often provides a better reflection of perceived quality in these scenarios.\n",
    "Scale and Range:\n",
    "\n",
    "PSNR: PSNR is typically measured in decibels (dB), and higher values indicate better quality. A common range is 20-50 dB.\n",
    "SSIM: SSIM values range from -1 to 1, with 1 indicating perfect similarity. A value of 1 suggests that the reference and distorted images are identical.\n",
    "In summary, PSNR is a straightforward and widely used metric for measuring image and video quality, but it focuses solely on pixel-wise differences and is less aligned with human perception. SSIM, on the other hand, incorporates structural information and better correlates with how humans perceive quality. When evaluating image or video quality, it's often advisable to consider both metrics, as well as other factors, depending on the specific use case and audience."
   ]
  }
 ],
 "metadata": {
  "kernelspec": {
   "display_name": "Python 3 (ipykernel)",
   "language": "python",
   "name": "python3"
  },
  "language_info": {
   "codemirror_mode": {
    "name": "ipython",
    "version": 3
   },
   "file_extension": ".py",
   "mimetype": "text/x-python",
   "name": "python",
   "nbconvert_exporter": "python",
   "pygments_lexer": "ipython3",
   "version": "3.11.3"
  }
 },
 "nbformat": 4,
 "nbformat_minor": 5
}
