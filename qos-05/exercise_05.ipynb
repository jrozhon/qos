{
 "cells": [
  {
   "cell_type": "markdown",
   "metadata": {},
   "source": [
    "# Software-Defined Networks Emulation in Mininet"
   ]
  },
  {
   "cell_type": "markdown",
   "metadata": {},
   "source": [
    "Mininet is a network emulator that allows for rapid development of vast network architectures. Its limits lie with the hardware limits of the platform that runs the mininet. In this course, we will discuss some basic usage of mininet to emulate various network topologies.\n",
    "\n",
    "**IMPORTANT:** Mininet's *mn* wrapper works as a CLI so we cannot use it in the Jupyter. Instead, please use the remote console to the servers having the mininet package installed and ready. These servers are at:\n",
    "\n",
    "* sdn1  - 10.2.1.131\n",
    "* sdn2  - 10.2.1.132\n",
    "* sdn3  - 10.2.1.133\n",
    "* sdn4  - 10.2.1.134\n",
    "* sdn5  - 10.2.1.135\n",
    "* sdn6  - 10.2.1.136\n",
    "* sdn7  - 10.2.1.137\n",
    "* sdn8  - 10.2.1.138\n",
    "* sdn9  - 10.2.1.139\n",
    "* sdn10 - 10.2.1.140\n",
    "* sdn11 - 10.2.1.141\n",
    "* sdn12 - 10.2.1.142\n",
    "* sdn13 - 10.2.1.143\n",
    "\n",
    "You can log in using standard ssh connection. From the terminal in your computer please use the following command.\n",
    "\n",
    "```bash\n",
    "ssh student@10.2.1.X\n",
    "```\n",
    "The password for the connection is **student**.\n",
    "\n",
    "When you successfully log in, please elevate your permission level to root user, since mininet can only be used by root users.\n",
    "\n",
    "```bash\n",
    "su -\n",
    "```\n",
    "Password is again **student**."
   ]
  },
  {
   "cell_type": "markdown",
   "metadata": {},
   "source": [
    "## Running Mininet"
   ]
  },
  {
   "cell_type": "markdown",
   "metadata": {},
   "source": [
    "Mininet can be run using its Python API. However, for most cases we use an interactive console provided by the *mn* wrapper. The simplest topology mininet can run can be invoked by the following command:"
   ]
  },
  {
   "cell_type": "markdown",
   "metadata": {},
   "source": [
    "```bash\n",
    "mn\n",
    "```"
   ]
  }
 ],
 "metadata": {
  "kernelspec": {
   "display_name": "Python 3 (ipykernel)",
   "language": "python",
   "name": "python3"
  },
  "language_info": {
   "codemirror_mode": {
    "name": "ipython",
    "version": 3
   },
   "file_extension": ".py",
   "mimetype": "text/x-python",
   "name": "python",
   "nbconvert_exporter": "python",
   "pygments_lexer": "ipython3",
   "version": "3.11.3"
  }
 },
 "nbformat": 4,
 "nbformat_minor": 5
}
