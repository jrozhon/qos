{
 "cells": [
  {
   "cell_type": "markdown",
   "id": "d2a07195-fb8c-4d26-adb0-bbc89f81ade7",
   "metadata": {},
   "source": [
    "## Send UDP"
   ]
  },
  {
   "cell_type": "code",
   "execution_count": null,
   "id": "dcdc202f-8f6b-4950-b95b-aea31b496acb",
   "metadata": {},
   "outputs": [],
   "source": [
    "ip = sa.IP(dst=DST_IP)\n",
    "udp = sa.UDP(sport=SRC_PORT, dport=DST_PORT)\n",
    "\n",
    "msg = \"hello again\"\n",
    "\n",
    "for letter in msg:\n",
    "    pkt = ip / udp / letter\n",
    "    sa.send(pkt)\n",
    "    time.sleep(0.5)"
   ]
  },
  {
   "cell_type": "markdown",
   "id": "0eb5dc2f-d275-466d-b38d-42649faa6c3d",
   "metadata": {},
   "source": [
    "## Sniff udp"
   ]
  },
  {
   "cell_type": "code",
   "execution_count": 17,
   "id": "4d01b8ba-2ed0-4ea2-8b12-9b64f93af927",
   "metadata": {},
   "outputs": [
    {
     "name": "stdout",
     "output_type": "stream",
     "text": [
      "hheelllloo  aaggaaiinn"
     ]
    },
    {
     "data": {
      "text/plain": [
       "<Sniffed: TCP:0 UDP:0 ICMP:0 Other:0>"
      ]
     },
     "execution_count": 17,
     "metadata": {},
     "output_type": "execute_result"
    }
   ],
   "source": [
    "import scapy.all as sa\n",
    "def pkt_callback(pkt):\n",
    "    # if pkt[\"ICMP\"].type == 8:\n",
    "        print(pkt[\"Raw\"].load.decode('utf-8'), end=\"\")\n",
    "\n",
    "sa.sniff(iface=\"lo\", prn=pkt_callback, filter=\"udp port 12345\", store=0)"
   ]
  }
 ],
 "metadata": {
  "kernelspec": {
   "display_name": "Python 3 (ipykernel)",
   "language": "python",
   "name": "python3"
  },
  "language_info": {
   "codemirror_mode": {
    "name": "ipython",
    "version": 3
   },
   "file_extension": ".py",
   "mimetype": "text/x-python",
   "name": "python",
   "nbconvert_exporter": "python",
   "pygments_lexer": "ipython3",
   "version": "3.12.3"
  }
 },
 "nbformat": 4,
 "nbformat_minor": 5
}
