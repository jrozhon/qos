{
 "cells": [
  {
   "cell_type": "markdown",
   "metadata": {},
   "source": [
    "# Software-Defined Networks Emulation in Mininet"
   ]
  },
  {
   "cell_type": "markdown",
   "metadata": {},
   "source": [
    "Mininet is a network emulator that allows for rapid development of vast network architectures. Its limits lie with the hardware limits of the platform that runs the mininet. In this course, we will discuss some basic usage of mininet to emulate various network topologies.\n",
    "\n",
    "**IMPORTANT:** Mininet's *mn* wrapper works as a CLI so we cannot use it in the Jupyter. Instead, please use the remote console to the servers having the mininet package installed and ready. These servers are at:\n",
    "\n",
    "You can log in using standard ssh connection. From the terminal in your computer please use the following command.\n",
    "\n",
    "```bash\n",
    "ssh student@10.100.0.XX\n",
    "ssh student@158.196.244.134 -p XX22  \n",
    "\n",
    "XX: 41-53\n",
    "```\n",
    "The password for the connection is **student**.\n",
    "\n",
    "To kill a process using its port, you can follow these general steps:\n",
    "\n",
    "sudo lsof -i :6653 (find process with 6653 port)\n",
    "\n",
    "sudo kill -9 PID  (PID = PID of your process)\n",
    "\n",
    "\n",
    "\n",
    "\n"
   ]
  },
  {
   "cell_type": "markdown",
   "metadata": {},
   "source": [
    "## Running Mininet"
   ]
  },
  {
   "cell_type": "markdown",
   "metadata": {},
   "source": [
    "Mininet can be run using its Python API. However, for most cases we use an interactive console provided by the *mn* wrapper. The simplest topology mininet can run can be invoked by the following command:"
   ]
  },
  {
   "cell_type": "markdown",
   "metadata": {},
   "source": [
    "```bash\n",
    "mn\n",
    "```"
   ]
  },
  {
   "cell_type": "markdown",
   "metadata": {},
   "source": [
    "This command invokes the mininet wrapper that runs a Python virtual environment and creates the topology with single switch and two hosts that are connected to it. This is depicted in the figure below.\n",
    "\n",
    "![topo](fig/simple.png)"
   ]
  },
  {
   "cell_type": "markdown",
   "metadata": {},
   "source": [
    "The switch is an instance of Open vSwitch. A controller is and internal reference implementation of the Stanford controller and the hosts are run as separate processes so that they can be used to run even some more complex applications."
   ]
  },
  {
   "cell_type": "markdown",
   "metadata": {},
   "source": [
    "Mininet outputs some useful information:\n",
    "\n",
    "```text\n",
    "*** Creating network\n",
    "*** Adding controller\n",
    "*** Adding hosts:\n",
    "h1 h2 \n",
    "*** Adding switches:\n",
    "s1 \n",
    "*** Adding links:\n",
    "(h1, s1) (h2, s1) \n",
    "*** Configuring hosts\n",
    "h1 h2 \n",
    "*** Starting controller\n",
    "c0 \n",
    "*** Starting 1 switches\n",
    "s1 ...\n",
    "*** Starting CLI:\n",
    "```"
   ]
  },
  {
   "cell_type": "markdown",
   "metadata": {},
   "source": [
    "It creates a network, adds a controller, hosts h1 and h2 and then the switch. The links in the topology are between hosts and the switch. Please note the names of the elements, such as h1, s1, or c0. These can be used to identify the elements in the network."
   ]
  },
  {
   "cell_type": "markdown",
   "metadata": {},
   "source": [
    "To **exit** from the mininet console, just type **exit**."
   ]
  },
  {
   "cell_type": "markdown",
   "metadata": {},
   "source": [
    "In case of mininet crash, just type **mn -c** for cleanup."
   ]
  },
  {
   "cell_type": "markdown",
   "metadata": {},
   "source": [
    "Let's now explore some basic functionalities."
   ]
  },
  {
   "cell_type": "markdown",
   "metadata": {},
   "source": [
    "## Hosts act as real Linux servers"
   ]
  },
  {
   "cell_type": "markdown",
   "metadata": {},
   "source": [
    "Hosts can be treated similarly as usual Linux servers. Let's see the IP configuration of the host h1.\n",
    "\n",
    "```bash\n",
    "mininet> h1 ip a\n",
    "```\n",
    "\n",
    "This will output very familiar information:\n",
    "\n",
    "```text\n",
    "1: lo: <LOOPBACK,UP,LOWER_UP> mtu 65536 qdisc noqueue state UNKNOWN group default qlen 1000\n",
    "    link/loopback 00:00:00:00:00:00 brd 00:00:00:00:00:00\n",
    "    inet 127.0.0.1/8 scope host lo\n",
    "       valid_lft forever preferred_lft forever\n",
    "    inet6 ::1/128 scope host \n",
    "       valid_lft forever preferred_lft forever\n",
    "2: h1-eth0@if11: <BROADCAST,MULTICAST,UP,LOWER_UP> mtu 1500 qdisc noqueue state UP group default qlen 1000\n",
    "    link/ether ea:21:6a:29:c0:5e brd ff:ff:ff:ff:ff:ff link-netnsid 0\n",
    "    inet 10.0.0.1/8 brd 10.255.255.255 scope global h1-eth0\n",
    "       valid_lft forever preferred_lft forever\n",
    "    inet6 fe80::e821:6aff:fe29:c05e/64 scope link \n",
    "       valid_lft forever preferred_lft forever\n",
    "```\n",
    "\n",
    "Here, you can see that the host actually has a network interface with both MAC and IP addresses assigned. This is and example of how to run a single command on the emulated host. But, what if we need to do some more complex stuff? We can switch to the host's console by invoking **bash**.\n",
    "\n",
    "```bash\n",
    "mininet> h1 bash\n",
    "```\n",
    "\n",
    "There, you can for example run a tcpdump command. If you want to return to the mininet console, just type **exit**."
   ]
  },
  {
   "cell_type": "markdown",
   "metadata": {},
   "source": [
    "## Get or set the switch params"
   ]
  },
  {
   "cell_type": "markdown",
   "metadata": {},
   "source": [
    "To get some information about the switch being used, we can use a **dpctl** command. It is actually an internal alias of the mininet for the **ovs-ofctl** command. Both can be used to obtain information about the switches and/or to work with the flow/group/meter table entries.\n",
    "\n",
    "So, the most basic information is the information about the version of the switch and its type. This can be obtained by:\n",
    "\n",
    "```bash\n",
    "mininet> dpctl dump-desc\n",
    "```\n",
    "\n",
    "This will output the following (or similar).\n",
    "\n",
    "```text\n",
    "*** s1 ------------------------------------------------------------------------\n",
    "OFPST_DESC reply (xid=0x2):\n",
    "Manufacturer: Nicira, Inc.\n",
    "Hardware: Open vSwitch\n",
    "Software: 2.10.1\n",
    "Serial Num: None\n",
    "DP Description: None\n",
    "```\n",
    "\n",
    "The equivalent using the ovs-ofctl command would look as follows.\n",
    "\n",
    "```bash\n",
    "ovs-ofctl dump-desc s1\n",
    "```"
   ]
  },
  {
   "cell_type": "markdown",
   "metadata": {},
   "source": [
    "The information about the switch physical and registered ports can be reached by invoking:\n",
    "\n",
    "```bash\n",
    "mininet> dpctl show\n",
    "```\n",
    "\n",
    "The output then can look like following:\n",
    "\n",
    "```text\n",
    "*** s1 ------------------------------------------------------------------------\n",
    "OFPT_FEATURES_REPLY (xid=0x2): dpid:0000000000000001\n",
    "n_tables:254, n_buffers:0\n",
    "capabilities: FLOW_STATS TABLE_STATS PORT_STATS QUEUE_STATS ARP_MATCH_IP\n",
    "actions: output enqueue set_vlan_vid set_vlan_pcp strip_vlan mod_dl_src mod_dl_dst mod_nw_src mod_nw_dst mod_nw_tos mod_tp_src mod_tp_dst\n",
    " 1(s1-eth1): addr:26:98:6e:44:a0:70\n",
    "     config:     0\n",
    "     state:      0\n",
    "     current:    10GB-FD COPPER\n",
    "     speed: 10000 Mbps now, 0 Mbps max\n",
    " 2(s1-eth2): addr:2a:7d:0b:34:61:95\n",
    "     config:     0\n",
    "     state:      0\n",
    "     current:    10GB-FD COPPER\n",
    "     speed: 10000 Mbps now, 0 Mbps max\n",
    " LOCAL(s1): addr:b2:26:ba:70:07:40\n",
    "     config:     PORT_DOWN\n",
    "     state:      LINK_DOWN\n",
    "     speed: 0 Mbps now, 0 Mbps max\n",
    "OFPT_GET_CONFIG_REPLY (xid=0x4): frags=normal miss_send_len=0\n",
    "```\n",
    "\n",
    "This is actually the information that the switch sends using the Openflow protocol. You can observe it using the **tcpdump** running on the remote computer."
   ]
  },
  {
   "cell_type": "markdown",
   "metadata": {},
   "source": [
    "You can ask for port stats as well.\n",
    "\n",
    "```bash\n",
    "mininet> dpctl dump-ports \n",
    "```\n",
    "\n",
    "```text\n",
    "*** s1 ------------------------------------------------------------------------\n",
    "OFPST_PORT reply (xid=0x2): 3 ports\n",
    "  port LOCAL: rx pkts=0, bytes=0, drop=23, errs=0, frame=0, over=0, crc=0\n",
    "           tx pkts=0, bytes=0, drop=0, errs=0, coll=0\n",
    "  port  \"s1-eth1\": rx pkts=13, bytes=1006, drop=0, errs=0, frame=0, over=0, crc=0\n",
    "           tx pkts=24, bytes=1852, drop=0, errs=0, coll=0\n",
    "  port  \"s1-eth2\": rx pkts=12, bytes=936, drop=0, errs=0, frame=0, over=0, crc=0\n",
    "           tx pkts=25, bytes=1922, drop=0, errs=0, coll=0\n",
    "```"
   ]
  },
  {
   "cell_type": "markdown",
   "metadata": {},
   "source": [
    "You can even explore the flow tables.\n",
    "\n",
    "```bash\n",
    "mininet> dpctl dump-tables\n",
    "```\n",
    "\n",
    "```text\n",
    "*** s1 ------------------------------------------------------------------------\n",
    "OFPST_TABLE reply (xid=0x2):\n",
    "  table 0:\n",
    "    active=1, lookup=24, matched=24\n",
    "    max_entries=1000000\n",
    "    matching:\n",
    "      in_port: exact match or wildcard\n",
    "      eth_src: exact match or wildcard\n",
    "      eth_dst: exact match or wildcard\n",
    "      eth_type: exact match or wildcard\n",
    "      vlan_vid: exact match or wildcard\n",
    "      vlan_pcp: exact match or wildcard\n",
    "      ip_src: exact match or wildcard\n",
    "      ip_dst: exact match or wildcard\n",
    "      nw_proto: exact match or wildcard\n",
    "      nw_tos: exact match or wildcard\n",
    "      tcp_src: exact match or wildcard\n",
    "      tcp_dst: exact match or wildcard\n",
    "\n",
    "  table 1:\n",
    "    active=0, lookup=0, matched=0\n",
    "    (same features)\n",
    "\n",
    "  table 2: ditto\n",
    "  table 3: ditto\n",
    "  ...\n",
    "```\n",
    "\n",
    "Please, see the information about the number of lookups and matches. This is related to the packets that traversed the switch."
   ]
  },
  {
   "cell_type": "markdown",
   "metadata": {},
   "source": [
    "You can test the connection to the controller by OpenFlow ping as well.\n",
    "\n",
    "```bash\n",
    "mininet> dpctl ping\n",
    "```\n",
    "\n",
    "```text\n",
    "*** s1 ------------------------------------------------------------------------\n",
    "64 bytes from s1: xid=00000002 time=0.2 ms\n",
    "64 bytes from s1: xid=00000003 time=0.1 ms\n",
    "64 bytes from s1: xid=00000004 time=0.1 ms\n",
    "64 bytes from s1: xid=00000005 time=0.1 ms\n",
    "64 bytes from s1: xid=00000006 time=0.1 ms\n",
    "64 bytes from s1: xid=00000007 time=0.1 ms\n",
    "64 bytes from s1: xid=00000008 time=0.1 ms\n",
    "64 bytes from s1: xid=00000009 time=0.1 ms\n",
    "64 bytes from s1: xid=0000000a time=0.1 ms\n",
    "64 bytes from s1: xid=0000000b time=0.1 ms\n",
    "```"
   ]
  },
  {
   "cell_type": "markdown",
   "metadata": {},
   "source": [
    "To dig information about the current entries in the flow tables, you can use the following command. The output of this command can differ in case of you making some traffic between the hosts.\n",
    "\n",
    "```bash\n",
    "mininet> dpctl dump-flows  \n",
    "```\n",
    "\n",
    "```text\n",
    "*** s1 ------------------------------------------------------------------------\n",
    " cookie=0x0, duration=2.572s, table=0, n_packets=10, n_bytes=852, priority=0 actions=CONTROLLER:128\n",
    "```\n",
    "\n",
    "If you try to run a ping between the host such as\n",
    "\n",
    "```bash\n",
    "mininet> h1 ping h2\n",
    "```\n",
    "\n",
    "You will see that there are two more flow entries in the flow tables.\n",
    "\n",
    "```text\n",
    "*** s1 ------------------------------------------------------------------------\n",
    " cookie=0x0, duration=2.422s, table=0, n_packets=1, n_bytes=98, idle_timeout=60, priority=1,icmp,in_port=\"s1-eth1\",vlan_tci=0x0000/0x1fff,dl_src=5a:60:5b:e1:3d:38,dl_dst=1e:67:69:87:e2:39,nw_src=10.0.0.1,nw_dst=10.0.0.2,nw_tos=0,icmp_type=8,icmp_code=0 actions=output:\"s1-eth2\"\n",
    " cookie=0x0, duration=2.421s, table=0, n_packets=1, n_bytes=98, idle_timeout=60, priority=1,icmp,in_port=\"s1-eth2\",vlan_tci=0x0000/0x1fff,dl_src=1e:67:69:87:e2:39,dl_dst=5a:60:5b:e1:3d:38,nw_src=10.0.0.2,nw_dst=10.0.0.1,nw_tos=0,icmp_type=0,icmp_code=0 actions=output:\"s1-eth1\"\n",
    " cookie=0x0, duration=1105.177s, table=0, n_packets=33, n_bytes=2462, priority=0 actions=CONTROLLER:128\n",
    "```\n",
    "\n",
    "Please note the match fields and the timeouts."
   ]
  },
  {
   "cell_type": "markdown",
   "metadata": {},
   "source": [
    "You can delete all the flow entries simply by issuing:\n",
    "\n",
    "```bash\n",
    "mininet> dpctl del-flows\n",
    "```\n",
    "\n",
    "Please, now try to ping the host h2 from host h1. This will not work."
   ]
  },
  {
   "cell_type": "markdown",
   "metadata": {},
   "source": [
    "### Question"
   ]
  },
  {
   "cell_type": "markdown",
   "metadata": {},
   "source": [
    "Why the ping is not working anymore?"
   ]
  },
  {
   "cell_type": "markdown",
   "metadata": {},
   "source": [
    "Let's try to add a simple rule that forwards all the traffic coming from port 1 to port 2 and vice versa.\n",
    "\n",
    "```bash\n",
    "mininet> dpctl add-flow in_port=2,actions:output=1\n",
    "mininet> dpctl add-flow in_port=1,actions:output=2\n",
    "```\n",
    "\n",
    "Now, try to run the ping again. What flow entries can you see?"
   ]
  },
  {
   "cell_type": "markdown",
   "metadata": {},
   "source": [
    "## Mininet commands"
   ]
  },
  {
   "cell_type": "markdown",
   "metadata": {},
   "source": [
    "Mininet has some handy commands to get the info about the nodes, the links between nodes and process numbers running the instances of the hosts, controller or switches. "
   ]
  },
  {
   "cell_type": "markdown",
   "metadata": {},
   "source": [
    "### Task"
   ]
  },
  {
   "cell_type": "markdown",
   "metadata": {},
   "source": [
    "Please try to issue the commands below and investigate the output.\n",
    "\n",
    "```bash\n",
    "mininet> nodes\n",
    "mininet> net\n",
    "mininet> dump\n",
    "```"
   ]
  },
  {
   "cell_type": "markdown",
   "metadata": {},
   "source": [
    "## Application and link performance testing"
   ]
  },
  {
   "cell_type": "markdown",
   "metadata": {},
   "source": [
    "You can also run the performance test of the line between the nodes with iperf like this:\n",
    "\n",
    "```bash\n",
    "mininet> h2 iperf -c h1\n",
    "```\n",
    "\n",
    "The first line runs an iperf server, the second runs a client."
   ]
  },
  {
   "cell_type": "markdown",
   "metadata": {},
   "source": [
    "### Task\n",
    "Investigate the output of the iperf command."
   ]
  },
  {
   "cell_type": "markdown",
   "metadata": {},
   "source": [
    "## Custom topologies and link parameters"
   ]
  },
  {
   "cell_type": "markdown",
   "metadata": {},
   "source": [
    "There are several ways how to automatically create the most common topologies in mininet (please see man mn). However, in cases when you need a special topology and/or emulate delays and/or losses on the links between the nodes the custom topology definition becomes a must."
   ]
  },
  {
   "cell_type": "markdown",
   "metadata": {},
   "source": [
    "To define a custom topology, you can use a sceleton class in the cell below."
   ]
  },
  {
   "cell_type": "code",
   "execution_count": null,
   "metadata": {},
   "outputs": [],
   "source": [
    "\"\"\"Custom topology example\n",
    "Adding the 'topos' dict with a key/value pair to generate our newly defined\n",
    "topology enables one to pass in '--topo=mytopo' from the command line.\n",
    "\"\"\"\n",
    "\n",
    "from mininet.topo import Topo\n",
    "\n",
    "class MyTopo( Topo ):\n",
    "    \"Simple topology example.\"\n",
    "\n",
    "    def __init__( self ):\n",
    "        \"Create custom topo.\"\n",
    "\n",
    "        # Initialize topology\n",
    "        Topo.__init__( self )\n",
    "\n",
    "        # Add hosts and switches\n",
    "        # your code here\n",
    "\n",
    "        # Add links\n",
    "        # your code here\n",
    "\n",
    "topos = { 'mytopo': ( lambda: MyTopo() ) }\n"
   ]
  },
  {
   "cell_type": "markdown",
   "metadata": {},
   "source": [
    "The topology we are about to model is depicted in the figure below.\n",
    "\n",
    "![custom topo](fig/custom.png)"
   ]
  },
  {
   "cell_type": "markdown",
   "metadata": {},
   "source": [
    "First, we need to add hosts."
   ]
  },
  {
   "cell_type": "code",
   "execution_count": null,
   "metadata": {},
   "outputs": [],
   "source": [
    "h1 = self.addHost('h1', ip='10.1.0.11/8')\n",
    "h2 = self.addHost('h2', ip='10.1.0.22/8')\n",
    "h3 = self.addHost('h3', ip='10.1.0.33/8')"
   ]
  },
  {
   "cell_type": "markdown",
   "metadata": {},
   "source": [
    "Then, let's add switches."
   ]
  },
  {
   "cell_type": "code",
   "execution_count": null,
   "metadata": {},
   "outputs": [],
   "source": [
    "s1 = self.addSwitch('s1')\n",
    "s2 = self.addSwitch('s2')\n",
    "s3 = self.addSwitch('s3')"
   ]
  },
  {
   "cell_type": "markdown",
   "metadata": {},
   "source": [
    "And then, we need to wire the interfaces together."
   ]
  },
  {
   "cell_type": "code",
   "execution_count": null,
   "metadata": {},
   "outputs": [],
   "source": [
    "self.addLink(h1, s1)\n",
    "self.addLink(h2, s2)\n",
    "self.addLink(h3, s3)\n",
    "\n",
    "self.addLink(s1, s2, bw=10, delay=\"30ms\")\n",
    "self.addLink(s1, s3, bw=15, delay=\"50ms\")"
   ]
  },
  {
   "cell_type": "markdown",
   "metadata": {},
   "source": [
    "The links are actually a tuples of originating and destination nodes. We can add traffic control params to links as well, where **bw** stands for bandwidth in Mbit/s and delay stands for network link delay. You can use **loss** as well. In this case, the value is in percent and it is an equally distributed loss pattern."
   ]
  },
  {
   "cell_type": "markdown",
   "metadata": {},
   "source": [
    "Complete topology definition would then look as follows."
   ]
  },
  {
   "cell_type": "code",
   "execution_count": null,
   "metadata": {},
   "outputs": [],
   "source": [
    "\"\"\"Custom topology example\n",
    "Adding the 'topos' dict with a key/value pair to generate our newly defined\n",
    "topology enables one to pass in '--topo=mytopo' from the command line.\n",
    "\"\"\"\n",
    "\n",
    "from mininet.topo import Topo\n",
    "\n",
    "class MyTopo( Topo ):\n",
    "    \"Simple topology example.\"\n",
    "\n",
    "    def __init__( self ):\n",
    "        \"Create custom topo.\"\n",
    "\n",
    "        # Initialize topology\n",
    "        Topo.__init__( self )\n",
    "\n",
    "        # Add hosts and switches\n",
    "        h1 = self.addHost('h1', ip='10.1.0.11/8')\n",
    "        h2 = self.addHost('h2', ip='10.1.0.22/8')\n",
    "        h3 = self.addHost('h3', ip='10.1.0.33/8')\n",
    "        \n",
    "        s1 = self.addSwitch('s1')\n",
    "        s2 = self.addSwitch('s2')\n",
    "        s3 = self.addSwitch('s3')\n",
    "\n",
    "        # Add links\n",
    "        self.addLink(h1, s1)\n",
    "        self.addLink(h2, s2)\n",
    "        self.addLink(h3, s3)\n",
    "\n",
    "        self.addLink(s1, s2, bw=10, delay=\"30ms\")\n",
    "        self.addLink(s1, s3, bw=15, delay=\"50ms\")\n",
    "\n",
    "topos = { 'mytopo': ( lambda: MyTopo() ) }"
   ]
  },
  {
   "cell_type": "markdown",
   "metadata": {},
   "source": [
    "To run this topology, you can use the following command, which assumes that the file with the topology is called **ex.py**. **Important** for the network parameters to work as expected, **the link type must be set to tc**.\n",
    "\n",
    "```bash\n",
    "mn --custom=ex.py --topo mytopo --mac --link tc\n",
    "```"
   ]
  },
  {
   "cell_type": "markdown",
   "metadata": {},
   "source": [
    "### Task"
   ]
  },
  {
   "cell_type": "markdown",
   "metadata": {},
   "source": [
    "* Add network loss to the topology as well.\n",
    "* Measure the network performance using iperf tool."
   ]
  },
  {
   "cell_type": "code",
   "execution_count": null,
   "metadata": {},
   "outputs": [],
   "source": [
    "##Topology with losess\n",
    "from mininet.topo import Topo\n",
    "\n",
    "class MyTopo(Topo):\n",
    "    \"Simple topology example.\"\n",
    "\n",
    "    def __init__(self):\n",
    "        \"Create custom topo.\"\n",
    "\n",
    "        # Initialize topology\n",
    "        Topo.__init__(self)\n",
    "\n",
    "        # Add hosts and switches\n",
    "        h1 = self.addHost('h1', ip='10.1.0.11/8')\n",
    "        h2 = self.addHost('h2', ip='10.1.0.22/8')\n",
    "        h3 = self.addHost('h3', ip='10.1.0.33/8')\n",
    "\n",
    "        s1 = self.addSwitch('s1')\n",
    "        s2 = self.addSwitch('s2')\n",
    "        s3 = self.addSwitch('s3')\n",
    "\n",
    "        # Add links\n",
    "        self.addLink(h1, s1)\n",
    "        self.addLink(h2, s2)\n",
    "        self.addLink(h3, s3)\n",
    "\n",
    "        # Add links with bandwidth, delay, and loss\n",
    "        self.addLink(s1, s2, bw=10, delay=\"30ms\", loss=2)  # 2% packet loss\n",
    "        self.addLink(s1, s3, bw=15, delay=\"50ms\", loss=5)  # 5% packet loss\n",
    "\n",
    "topos = {'mytopo': (lambda: MyTopo())}\n"
   ]
  }
 ],
 "metadata": {
  "kernelspec": {
   "display_name": "Python 3",
   "language": "python",
   "name": "python3"
  },
  "language_info": {
   "codemirror_mode": {
    "name": "ipython",
    "version": 3
   },
   "file_extension": ".py",
   "mimetype": "text/x-python",
   "name": "python",
   "nbconvert_exporter": "python",
   "pygments_lexer": "ipython3",
   "version": "3.6.7"
  }
 },
 "nbformat": 4,
 "nbformat_minor": 2
}
