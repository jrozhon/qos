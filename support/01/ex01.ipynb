{
 "cells": [
  {
   "cell_type": "markdown",
   "id": "ecba0e97-4422-4a89-b4b1-66ca010f9e42",
   "metadata": {},
   "source": [
    "# Imports"
   ]
  },
  {
   "cell_type": "code",
   "execution_count": null,
   "id": "946a163a-254c-418e-963c-48653fe53ce2",
   "metadata": {},
   "outputs": [],
   "source": [
    "import numpy as np\n",
    "import panel as pn\n",
    "\n",
    "from bokeh.models import ColumnDataSource, Slider, TextInput, Button\n",
    "from functools import partial\n",
    "\n",
    "from lib.core import NoiseSignal, HarmSignal\n",
    "\n",
    "pn.extension()"
   ]
  },
  {
   "cell_type": "code",
   "execution_count": null,
   "id": "d098f171-9f1d-409b-8eea-28b42ee92684",
   "metadata": {},
   "outputs": [],
   "source": [
    "pip install pydub"
   ]
  },
  {
   "cell_type": "code",
   "execution_count": null,
   "id": "40541ec4-a529-49e1-816c-90fde91e3f68",
   "metadata": {},
   "outputs": [],
   "source": [
    "from pydub import AudioSegment"
   ]
  },
  {
   "cell_type": "code",
   "execution_count": null,
   "id": "fe44658e-631f-47fd-af1e-5a739233c011",
   "metadata": {},
   "outputs": [],
   "source": [
    "s = AudioSegment.from_file(\"Voice 240911_120121.m4a\", \"m4a\")"
   ]
  },
  {
   "cell_type": "code",
   "execution_count": null,
   "id": "28596607-cedc-45f8-9828-28013f6d8afe",
   "metadata": {},
   "outputs": [],
   "source": [
    "s"
   ]
  },
  {
   "cell_type": "code",
   "execution_count": null,
   "id": "25d15960-bd15-4d73-92f8-ff4a038e2edd",
   "metadata": {},
   "outputs": [],
   "source": [
    "n = np.array(s.get_array_of_samples())"
   ]
  },
  {
   "cell_type": "code",
   "execution_count": null,
   "id": "ff1a28a9-a8f2-467d-993c-3d18c7a12f3b",
   "metadata": {},
   "outputs": [],
   "source": [
    "n.max()"
   ]
  },
  {
   "cell_type": "code",
   "execution_count": null,
   "id": "b3dbe87e-d79f-4e57-8bbf-554f038c7057",
   "metadata": {},
   "outputs": [],
   "source": [
    "#import opinionated\n",
    "from matplotlib import pyplot as plt\n",
    "import matplotlib.image as image"
   ]
  },
  {
   "cell_type": "code",
   "execution_count": null,
   "id": "aa68898b-dab1-480b-b86f-d68a95d14c12",
   "metadata": {},
   "outputs": [],
   "source": [
    "textcolor = '#292929'\n",
    "rc_params = {\n",
    "    'legend.frameon': False,\n",
    "    'legend.numpoints': 1,\n",
    "    'legend.scatterpoints': 1,\n",
    "    'xtick.direction': 'out',\n",
    "    'ytick.direction': 'out',\n",
    "    'axes.axisbelow': True,\n",
    "    'axes.grid': True,\n",
    "    'grid.linestyle': '--',\n",
    "    'grid.linewidth': 1.3,\n",
    "    'grid.color': '#e5e5e5',\n",
    "    'font.family': 'sans-serif',\n",
    "    'font.sans-serif': ['Roboto Condensed', 'Arial', 'Liberation Sans', 'DejaVu Sans', 'Bitstream Vera Sans', 'sans-serif'],\n",
    "    'lines.solid_capstyle': 'round',\n",
    "    'axes.linewidth': 0,\n",
    "    'xtick.major.size': 0,\n",
    "    'ytick.major.size': 0,\n",
    "    'xtick.minor.size': 0,\n",
    "    'ytick.minor.size': 0,\n",
    "    'text.color': 'black',\n",
    "    'axes.titlesize': 26,\n",
    "    'axes.titlelocation': 'left',\n",
    "    'axes.titleweight': 'bold',\n",
    "    'axes.titlepad': 20,\n",
    "    'axes.labelpad': 8,\n",
    "    'axes.labelsize': 17,\n",
    "    'axes.labelweight': 'bold',\n",
    "    'xaxis.labellocation': 'right',\n",
    "    'yaxis.labellocation': 'top',\n",
    "    'ytick.labelsize': 15,\n",
    "    'xtick.labelsize': 15,\n",
    "    'legend.loc': 'center right',\n",
    "    'legend.title_fontsize': 15,\n",
    "    'legend.fontsize': 15,\n",
    "    'legend.markerscale': 1.3,\n",
    "    'figure.facecolor': '#ffffff',\n",
    "    'axes.facecolor': '#ffffff',\n",
    "    'savefig.facecolor': '#ffffff',\n",
    "    'text.color': textcolor,\n",
    "    'axes.labelcolor': textcolor,\n",
    "    'xtick.color': textcolor,\n",
    "    'ytick.color': textcolor,\n",
    "}\n",
    "\n",
    "colors = [\n",
    "    \"#00A499\",\n",
    "    \"#43B02A\",\n",
    "    \"#E4002B\",\n",
    "    \"#FFB81C\",\n",
    "    \"#0047BB\",\n",
    "    \"#05C3DE\",\n",
    "    \"#8246AF\",\n",
    "    \"#FF8200\",\n",
    "]\n"
   ]
  },
  {
   "cell_type": "code",
   "execution_count": null,
   "id": "d1f2598b-c71e-4aaa-b7fe-1a26d94840ef",
   "metadata": {},
   "outputs": [],
   "source": [
    "\n",
    "plt.rcParams.update(rc_params)\n",
    "fig, ax = plt.subplots(figsize=(20,6))\n",
    "\n",
    "\n",
    "im = image.imread(\"logo.png\")\n",
    "\n",
    "# put a new axes where you want the image to appear\n",
    "# (x, y, width, height)\n",
    "imax = fig.add_axes([.83, .9, 0.1, 0.1])\n",
    "# remove ticks & the box from imax \n",
    "imax.set_axis_off()\n",
    "# print the logo with aspect=\"equal\" to avoid distorting the logo\n",
    "imax.imshow(im, aspect=\"equal\")\n",
    "\n",
    "ax.plot(noise,alpha=.5, color=colors[0])\n",
    "ax.plot(n,alpha=.5, color=colors[1])\n",
    "ax.plot(n+noise, alpha=.5, color=colors[2])\n",
    "ax.set_xlabel(\"Sample no. [-]\")\n",
    "ax.set_ylabel(\"Amplitude [-]\")\n",
    "ax.set_title(\"Sound and Noise\")\n",
    "\n",
    "plt.show()"
   ]
  },
  {
   "cell_type": "code",
   "execution_count": null,
   "id": "17fab507-6a26-4ea0-b67a-1cee2abb5909",
   "metadata": {},
   "outputs": [],
   "source": [
    "x = np.linspace(0, 4*np.pi, 1000)\n",
    "y = np.sin(x)\n",
    "\n",
    "plt.rcParams.update(rc_params)\n",
    "fig, ax = plt.subplots(figsize=(10,6))\n",
    "\n",
    "\n",
    "im = image.imread(\"logo.png\")\n",
    "\n",
    "# put a new axes where you want the image to appear\n",
    "# (x, y, width, height)\n",
    "imax = fig.add_axes([.83, .9, 0.1, 0.1])\n",
    "# remove ticks & the box from imax \n",
    "imax.set_axis_off()\n",
    "# print the logo with aspect=\"equal\" to avoid distorting the logo\n",
    "imax.imshow(im, aspect=\"equal\")\n",
    "\n",
    "ax.plot(x,y,alpha=1, color=colors[0])\n",
    "ax.set_xlabel(\"x [rad]\")\n",
    "ax.set_ylabel(\"y [-]\")\n",
    "ax.set_title(\"Continuous Signal - sin(x)\")\n",
    "\n",
    "fig.savefig('continuous.png')\n",
    "plt.show()"
   ]
  },
  {
   "cell_type": "code",
   "execution_count": null,
   "id": "a45c4188-49c4-4e42-89a2-d27f5a2c8083",
   "metadata": {},
   "outputs": [],
   "source": [
    "x = np.linspace(0, 4*np.pi, 20)\n",
    "y = np.sin(x)\n",
    "\n",
    "plt.rcParams.update(rc_params)\n",
    "fig, ax = plt.subplots(figsize=(10,6))\n",
    "\n",
    "\n",
    "im = image.imread(\"logo.png\")\n",
    "\n",
    "# put a new axes where you want the image to appear\n",
    "# (x, y, width, height)\n",
    "imax = fig.add_axes([.83, .9, 0.1, 0.1])\n",
    "# remove ticks & the box from imax \n",
    "imax.set_axis_off()\n",
    "# print the logo with aspect=\"equal\" to avoid distorting the logo\n",
    "imax.imshow(im, aspect=\"equal\")\n",
    "\n",
    "ax.stem(x,y, linefmt=colors[0], basefmt=' ')#color=colors[0])\n",
    "ax.set_xlabel(\"Sample no. [-]\")\n",
    "ax.set_ylabel(\"Sample Value [-]\")\n",
    "ax.set_title(\"Discrete-Time Signal - sin(x)\")\n",
    "\n",
    "fig.savefig('discrete.png')\n",
    "plt.show()"
   ]
  },
  {
   "cell_type": "code",
   "execution_count": null,
   "id": "4cb2b5cd-e2aa-4e5b-bf20-fef26130cc46",
   "metadata": {},
   "outputs": [],
   "source": [
    "from scipy.stats import norm\n",
    "\n",
    "\n",
    "plt.rcParams.update(rc_params)\n",
    "fig, ax = plt.subplots(figsize=(10,6))\n",
    "\n",
    "im = image.imread(\"logo.png\")\n",
    "\n",
    "# put a new axes where you want the image to appear\n",
    "# (x, y, width, height)\n",
    "imax = fig.add_axes([.83, .9, 0.1, 0.1])\n",
    "# remove ticks & the box from imax \n",
    "imax.set_axis_off()\n",
    "# print the logo with aspect=\"equal\" to avoid distorting the logo\n",
    "imax.imshow(im, aspect=\"equal\")\n",
    "\n",
    "# Parameters for the normal distribution\n",
    "mu = 0  # Mean\n",
    "sigma = 1  # Standard deviation\n",
    "\n",
    "# Generate x values\n",
    "x = np.linspace(mu - 4*sigma, mu + 4*sigma, 1000)\n",
    "\n",
    "# Generate the normal distribution curve\n",
    "y = norm.pdf(x, mu, sigma)\n",
    "\n",
    "\n",
    "# Define sigma intervals\n",
    "sigmas = [1, 2, 3]\n",
    "\n",
    "percentages = [68.27, 95.45, 99.73]\n",
    "interval_percentages = [68.27, 13.59, 2.14]\n",
    "\n",
    "# Plot vertical lines and annotate percentages\n",
    "for i, sigma in enumerate(sigmas):\n",
    "\n",
    "    # Fill between the sigma intervals\n",
    "    if i == 0:\n",
    "        ax.fill_between(x, y, where=(x >= mu - sigma) & (x <= mu + sigma), color=colors[i+1], alpha=0.2)\n",
    "        ax.text(mu, .055, f'{interval_percentages[i]}%', color=colors[i+1], ha='center', fontsize=14, fontweight='bold')\n",
    "    else:\n",
    "        ax.fill_between(x, y, where=(x >= mu + sigmas[i-1]) & (x <= mu + sigma), color=colors[i+1], alpha=0.2)\n",
    "        ax.fill_between(x, y, where=(x >= mu - sigma) & (x <= mu - sigmas[i-1]), color=colors[i+1], alpha=0.2)\n",
    "        ax.text(mu + (sigmas[i-1] + sigma)/2, .055, f'{interval_percentages[i]}%', color=colors[i+1], ha='center',fontsize=14, fontweight='bold')\n",
    "        ax.text(mu - (sigmas[i-1] + sigma)/2, .055, f'{interval_percentages[i]}%', color=colors[i+1], ha='center',fontsize=14, fontweight='bold')\n",
    "\n",
    "    ax.axvline(mu + sigma, color=colors[i+1], linestyle='--', linewidth=1)\n",
    "    ax.axvline(mu - sigma, color=colors[i+1], linestyle='--', linewidth=1)\n",
    "\n",
    "\n",
    "# Plot the normal distribution\n",
    "ax.plot(x, y, color=colors[0],label='Normal Distribution')\n",
    "\n",
    "# Customize x-axis labels to show multiples of sigma\n",
    "sigma_ticks = np.arange(-3, 4, 1)  # From -3σ to 3σ\n",
    "ax.set_xticks(sigma_ticks, [f'{i}σ' for i in sigma_ticks])\n",
    "\n",
    "# Add labels and title\n",
    "ax.set_title('Normal Distribution')\n",
    "ax.set_xlabel('Value [-]')\n",
    "ax.set_ylabel('Probability Density [-]')\n",
    "fig.savefig('normal.png')\n",
    "plt.show()"
   ]
  },
  {
   "cell_type": "code",
   "execution_count": null,
   "id": "0e96e0b8-29bc-4099-b586-f5e5fc893107",
   "metadata": {},
   "outputs": [],
   "source": [
    "noise = rng.normal(loc=0, scale=600, size=len(n))"
   ]
  },
  {
   "cell_type": "code",
   "execution_count": null,
   "id": "73602ce0-9ed7-4caf-91da-351e35b7b9c7",
   "metadata": {},
   "outputs": [],
   "source": [
    "noise.min(), noise.max()"
   ]
  },
  {
   "cell_type": "code",
   "execution_count": null,
   "id": "acec6a79-0cd1-4fbe-b3f8-df9e16b47ed3",
   "metadata": {},
   "outputs": [],
   "source": [
    "s.frame_rate"
   ]
  },
  {
   "cell_type": "code",
   "execution_count": null,
   "id": "912474d2-c8f4-4a54-a985-c0d4eb07d70b",
   "metadata": {},
   "outputs": [],
   "source": [
    "signal_with_noise = n + noise"
   ]
  },
  {
   "cell_type": "code",
   "execution_count": null,
   "id": "28bba258-a3a6-4bc2-be09-d9ddabd7878e",
   "metadata": {},
   "outputs": [],
   "source": [
    "import array"
   ]
  },
  {
   "cell_type": "code",
   "execution_count": null,
   "id": "6f2d418f-57b2-47b1-8063-7a507864bce8",
   "metadata": {},
   "outputs": [],
   "source": [
    "sn = array.array(s.array_type, signal_with_noise.astype(\"int16\"))"
   ]
  },
  {
   "cell_type": "code",
   "execution_count": null,
   "id": "e978c01f-9faa-4493-9f54-0819c55cc758",
   "metadata": {},
   "outputs": [],
   "source": [
    "new_s = s._spawn(sn)"
   ]
  },
  {
   "cell_type": "code",
   "execution_count": null,
   "id": "566d82cd-f4ca-411e-bd86-6085b207a30d",
   "metadata": {},
   "outputs": [],
   "source": [
    "new_s"
   ]
  },
  {
   "cell_type": "code",
   "execution_count": null,
   "id": "7b046a74-51c3-4603-b30d-283fc934e828",
   "metadata": {},
   "outputs": [],
   "source": [
    "pip install pillow"
   ]
  },
  {
   "cell_type": "code",
   "execution_count": null,
   "id": "31b3bc9c-0fd1-45b9-9da1-0a4276d3bec9",
   "metadata": {},
   "outputs": [],
   "source": [
    "from PIL import Image"
   ]
  },
  {
   "cell_type": "code",
   "execution_count": null,
   "id": "06a670e9-4329-4e1d-965e-23de64c812c5",
   "metadata": {},
   "outputs": [],
   "source": [
    "p = Image.open(\"20240911_130657.jpg\")"
   ]
  },
  {
   "cell_type": "code",
   "execution_count": null,
   "id": "eb6caea1-2c98-465b-aa70-6cc05d4939bb",
   "metadata": {},
   "outputs": [],
   "source": [
    "p"
   ]
  },
  {
   "cell_type": "code",
   "execution_count": null,
   "id": "518d2620-57c7-4bc1-80c0-fe84cffd72a4",
   "metadata": {},
   "outputs": [],
   "source": [
    "p_gray = p.convert(\"L\")"
   ]
  },
  {
   "cell_type": "code",
   "execution_count": null,
   "id": "70c69932-90c2-4a8a-aaec-20227092587c",
   "metadata": {},
   "outputs": [],
   "source": [
    "p_gray"
   ]
  },
  {
   "cell_type": "code",
   "execution_count": null,
   "id": "db431a47-27a7-4984-a065-af6e2b060524",
   "metadata": {},
   "outputs": [],
   "source": [
    "pg = np.array(p_gray)"
   ]
  },
  {
   "cell_type": "code",
   "execution_count": null,
   "id": "b9342735-953c-434e-8fbe-a16f70fc86d0",
   "metadata": {},
   "outputs": [],
   "source": [
    "pg.shape"
   ]
  },
  {
   "cell_type": "code",
   "execution_count": null,
   "id": "e9dc4e4d-6994-4113-b04b-b30006514d90",
   "metadata": {},
   "outputs": [],
   "source": [
    "pg.min(), pg.max()"
   ]
  },
  {
   "cell_type": "code",
   "execution_count": null,
   "id": "57c22b7b-811b-42a1-bf35-16a7fa7c48c0",
   "metadata": {},
   "outputs": [],
   "source": [
    "noise = rng.normal(loc=0, scale=8, size=pg.shape)"
   ]
  },
  {
   "cell_type": "code",
   "execution_count": null,
   "id": "d8659fad-df28-4733-9b73-08b23120ecde",
   "metadata": {},
   "outputs": [],
   "source": [
    "pgn = pg + noise"
   ]
  },
  {
   "cell_type": "code",
   "execution_count": null,
   "id": "5263ebbb-7aa0-4ea0-831e-d19bc9ef2528",
   "metadata": {},
   "outputs": [],
   "source": [
    "pgn.dtype"
   ]
  },
  {
   "cell_type": "code",
   "execution_count": null,
   "id": "5f0e8ddc-f49c-4611-b37a-5ca58af23522",
   "metadata": {},
   "outputs": [],
   "source": [
    "pg.dtype"
   ]
  },
  {
   "cell_type": "code",
   "execution_count": null,
   "id": "7a452c9e-97fc-4a93-bec6-204ae5a54e4c",
   "metadata": {},
   "outputs": [],
   "source": [
    "pgn.max()"
   ]
  },
  {
   "cell_type": "code",
   "execution_count": null,
   "id": "f305d413-2799-4ee7-96e7-f7e9e59ccd1b",
   "metadata": {},
   "outputs": [],
   "source": [
    "x = pgn - pgn.min()"
   ]
  },
  {
   "cell_type": "code",
   "execution_count": null,
   "id": "6541652e-4183-432f-b5ee-77140760ff5b",
   "metadata": {},
   "outputs": [],
   "source": [
    "x.min(), x.max()"
   ]
  },
  {
   "cell_type": "code",
   "execution_count": null,
   "id": "c1fee640-0c62-4423-9019-523343cd234b",
   "metadata": {},
   "outputs": [],
   "source": [
    "x /= x.max()"
   ]
  },
  {
   "cell_type": "code",
   "execution_count": null,
   "id": "87ffa25b-9867-455c-82d2-ad0e5278e7a0",
   "metadata": {},
   "outputs": [],
   "source": [
    "x *= 255"
   ]
  },
  {
   "cell_type": "code",
   "execution_count": null,
   "id": "ebd3c176-01a9-4f4f-9b4c-1817c85b0af6",
   "metadata": {},
   "outputs": [],
   "source": [
    "pp = pgn.astype(\"uint8\")"
   ]
  },
  {
   "cell_type": "code",
   "execution_count": null,
   "id": "3241126c-cc26-464d-83e5-134f354bda54",
   "metadata": {},
   "outputs": [],
   "source": [
    "pp.min(), pp.max()"
   ]
  },
  {
   "cell_type": "code",
   "execution_count": null,
   "id": "c0295998-a627-44c5-9bca-858bb57084e9",
   "metadata": {},
   "outputs": [],
   "source": [
    "Image.fromarray(pgn.astype(\"uint8\"), mode=\"L\")"
   ]
  },
  {
   "cell_type": "code",
   "execution_count": null,
   "id": "937fcf92-8e1b-4a57-9ead-cbcfa3568d52",
   "metadata": {},
   "outputs": [],
   "source": [
    "print(p_gray)"
   ]
  },
  {
   "cell_type": "code",
   "execution_count": null,
   "id": "05aefec1-9563-4fb3-9355-97f5e76d89ea",
   "metadata": {},
   "outputs": [],
   "source": [
    "Image.fromarray(x.astype(\"uint8\"), mode=\"L\")"
   ]
  },
  {
   "cell_type": "code",
   "execution_count": null,
   "id": "00a11174-6d41-499d-8abc-f0976ce4c4ac",
   "metadata": {},
   "outputs": [],
   "source": [
    "p = Image.open(\"android.jpeg\")\n",
    "p_gray = p.convert(\"L\")"
   ]
  },
  {
   "cell_type": "code",
   "execution_count": null,
   "id": "7173323e-a0e2-4eec-ab2f-0e09b1c7b751",
   "metadata": {},
   "outputs": [],
   "source": [
    "p_gray.save('android_gray.jpg')"
   ]
  },
  {
   "cell_type": "code",
   "execution_count": null,
   "id": "7eaf0a45-9e77-4ae6-b5f4-0cba050eebb0",
   "metadata": {},
   "outputs": [],
   "source": [
    "# Convert the image to a NumPy array\n",
    "image_array = np.array(p_gray)\n",
    "\n",
    "mean = 0\n",
    "variance = 0.1\n",
    "sigma = variance ** 0.5\n",
    "gaussian_noise = np.random.normal(mean, sigma, image_array.shape)\n",
    "\n",
    "# Add the noise to the image\n",
    "noisy_image_array = image_array + gaussian_noise * 255  # Scale noise to pixel range\n",
    "\n",
    "# Clip the values to be in the valid range [0, 255]\n",
    "noisy_image_array = np.clip(noisy_image_array, 0, 255)\n",
    "\n",
    "# Convert the array back to an image\n",
    "noisy_image = Image.fromarray(noisy_image_array.astype(np.uint8))\n",
    "\n",
    "# Save or display the noisy image\n",
    "noisy_image.save('noisy_image.png')\n"
   ]
  },
  {
   "cell_type": "code",
   "execution_count": null,
   "id": "2f502057-f896-433f-a0e3-27298381de67",
   "metadata": {},
   "outputs": [],
   "source": [
    "fig, axes = plt.subplots(1, 2, figsize=(10, 6))\n",
    "im = image.imread(\"logo.png\")\n",
    "\n",
    "# put a new axes where you want the image to appear\n",
    "# (x, y, width, height)\n",
    "imax = fig.add_axes([.82, .80, 0.1, 0.1])\n",
    "# remove ticks & the box from imax \n",
    "imax.set_axis_off()\n",
    "# print the logo with aspect=\"equal\" to avoid distorting the logo\n",
    "imax.imshow(im, aspect=\"equal\")\n",
    "axes[0].imshow(p_gray, cmap='gray')\n",
    "axes[0].set_title('Original Image')\n",
    "axes[0].axis('off')\n",
    "\n",
    "axes[1].imshow(noisy_image, cmap='gray')\n",
    "axes[1].set_title('Noisy Image')\n",
    "axes[1].axis('off')\n",
    "\n",
    "fig.savefig('noise.png')\n",
    "# plt.tight_layout()\n",
    "plt.show()"
   ]
  },
  {
   "cell_type": "code",
   "execution_count": null,
   "id": "c554283d-6d9e-4995-964d-4750d0120d87",
   "metadata": {},
   "outputs": [],
   "source": [
    "image_array"
   ]
  }
 ],
 "metadata": {
  "kernelspec": {
   "display_name": "Python 3 (ipykernel)",
   "language": "python",
   "name": "python3"
  },
  "language_info": {
   "codemirror_mode": {
    "name": "ipython",
    "version": 3
   },
   "file_extension": ".py",
   "mimetype": "text/x-python",
   "name": "python",
   "nbconvert_exporter": "python",
   "pygments_lexer": "ipython3",
   "version": "3.12.3"
  }
 },
 "nbformat": 4,
 "nbformat_minor": 5
}
