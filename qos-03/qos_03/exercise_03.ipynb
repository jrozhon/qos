{
 "cells": [
  {
   "cell_type": "markdown",
   "id": "81ccba72-a020-4d46-a105-f5374ebdff99",
   "metadata": {},
   "source": [
    "# Introduction to network communication with Scapy"
   ]
  },
  {
   "cell_type": "markdown",
   "id": "fbe2f715-6aad-433c-a003-ff7bb3ba4e05",
   "metadata": {},
   "source": [
    "In this short tutorial, we will use Scapy library to generate simple text and audio traffic and send it across the network."
   ]
  },
  {
   "cell_type": "markdown",
   "id": "70487a4d-d009-4f79-84e9-c372665211ed",
   "metadata": {},
   "source": [
    "## Preparation"
   ]
  },
  {
   "cell_type": "markdown",
   "id": "c33719a4-dd59-47d3-96fa-87777d018ee7",
   "metadata": {},
   "source": [
    "To fully understand the topic at hand, please make a PCAP file of your phone call to the test PBX and analyze it.\n",
    "\n",
    "For this activity we will also need an audio recording in the format of signed linear 16 bit PCM encoded samples in WAV container."
   ]
  },
  {
   "cell_type": "markdown",
   "id": "45240fdf-13c4-47cb-972d-20420991f02e",
   "metadata": {},
   "source": [
    "## Imports"
   ]
  },
  {
   "cell_type": "code",
   "execution_count": null,
   "id": "ef04124b-7db2-4b84-8ff7-6624ba08d283",
   "metadata": {},
   "outputs": [],
   "source": [
    "import scapy.all as sa\n",
    "import numpy as np\n",
    "import time\n",
    "from scipy.io import wavfile"
   ]
  },
  {
   "cell_type": "markdown",
   "id": "be127f90-766b-4e04-92ad-37d4a39e0c6b",
   "metadata": {},
   "source": [
    "## Constants"
   ]
  },
  {
   "cell_type": "code",
   "execution_count": null,
   "id": "b5b56988-b742-4e67-a538-5d80df6850c7",
   "metadata": {},
   "outputs": [],
   "source": [
    "rng = np.random.default_rng()\n",
    "SRC_IP = \"127.0.0.1\" # get this address by calling 'ip a' command\n",
    "DST_IP = \"127.0.0.1\" # get this from your colleague\n",
    "SRC_PORT = 12345\n",
    "DST_PORT = 54321"
   ]
  },
  {
   "cell_type": "markdown",
   "id": "9130c8d7-354a-4b7b-8e31-7ec60222a93a",
   "metadata": {},
   "source": [
    "## Simple text exchange"
   ]
  },
  {
   "cell_type": "markdown",
   "id": "9e173c51-facc-4545-885d-727d215b9db5",
   "metadata": {},
   "source": [
    "This snippet creates an ICMP packet carrying a simple text message. First we start with a carrying IP packet that will take care of the delivery across the network."
   ]
  },
  {
   "cell_type": "code",
   "execution_count": null,
   "id": "fc88f576-6490-4aad-8a7b-ce2002c0a2a8",
   "metadata": {},
   "outputs": [],
   "source": [
    "ip = sa.IP(src=SRC_IP, dst=DST_IP)"
   ]
  },
  {
   "cell_type": "markdown",
   "id": "7f28a491-310e-4655-981c-033095782fa5",
   "metadata": {},
   "source": [
    "This is how the packet is represented as a Python string."
   ]
  },
  {
   "cell_type": "code",
   "execution_count": null,
   "id": "d4907a54-c561-475e-81e3-f5eb0bc0ae9d",
   "metadata": {},
   "outputs": [],
   "source": [
    "ip"
   ]
  },
  {
   "cell_type": "markdown",
   "id": "26160a01-ac36-4862-9532-b383e8d3acc6",
   "metadata": {},
   "source": [
    "Now, let's look how it would appear BEFORE finalization to send it."
   ]
  },
  {
   "cell_type": "code",
   "execution_count": null,
   "id": "4c80cf0c-8ca6-49f3-90fd-74d1359663f2",
   "metadata": {},
   "outputs": [],
   "source": [
    "ip.show()"
   ]
  },
  {
   "cell_type": "markdown",
   "id": "d2c6dbd5-b22e-438c-9963-9ef46d59906d",
   "metadata": {},
   "source": [
    "And how it will look like 'on the wire'."
   ]
  },
  {
   "cell_type": "code",
   "execution_count": null,
   "id": "50c7365d-8dba-4ff1-b38d-f5342c186080",
   "metadata": {},
   "outputs": [],
   "source": [
    "ip.show2()"
   ]
  },
  {
   "cell_type": "markdown",
   "id": "5ce34bfe-acde-434d-b524-0c4ac7eab522",
   "metadata": {},
   "source": [
    "Now, we will add a new layer on top of the IP packet. In our case, it is going to be an [ICMP](https://en.wikipedia.org/wiki/Internet_Control_Message_Protocol) packet."
   ]
  },
  {
   "cell_type": "code",
   "execution_count": null,
   "id": "39ed64fc-37b8-40af-b2a2-423ceaaf5aab",
   "metadata": {},
   "outputs": [],
   "source": [
    "icmp = sa.ICMP(type=8)"
   ]
  },
  {
   "cell_type": "code",
   "execution_count": null,
   "id": "bedeec58-8123-416a-997b-7791528bede0",
   "metadata": {},
   "outputs": [],
   "source": [
    "icmp"
   ]
  },
  {
   "cell_type": "markdown",
   "id": "0e47896d-adc0-4381-9c30-5965351451cd",
   "metadata": {},
   "source": [
    "And lastly, we will add a message."
   ]
  },
  {
   "cell_type": "code",
   "execution_count": null,
   "id": "317621a1-05e0-424c-a910-de0820984e78",
   "metadata": {},
   "outputs": [],
   "source": [
    "msg = \"Hello world\""
   ]
  },
  {
   "cell_type": "markdown",
   "id": "7f309c72-178b-494c-b3a4-c2380d81e278",
   "metadata": {},
   "source": [
    "Now, let's tie it all together."
   ]
  },
  {
   "cell_type": "code",
   "execution_count": null,
   "id": "7b58dcc8-71a1-44fb-9c6a-01cb355f2e6c",
   "metadata": {},
   "outputs": [],
   "source": [
    "packet = ip / icmp / msg"
   ]
  },
  {
   "cell_type": "code",
   "execution_count": null,
   "id": "a6927a49-9a1c-4070-9692-3f69c8a9756e",
   "metadata": {},
   "outputs": [],
   "source": [
    "packet.show2()"
   ]
  },
  {
   "cell_type": "code",
   "execution_count": null,
   "id": "7fceeaa4-4f94-4384-860b-f9d55bdc08cf",
   "metadata": {},
   "outputs": [],
   "source": [
    "sa.hexdump(packet)"
   ]
  },
  {
   "cell_type": "markdown",
   "id": "3fadc82f-3066-4a01-87ed-6177db581492",
   "metadata": {},
   "source": [
    "### Question\n",
    "Where do you know this format from and what does it mean?"
   ]
  },
  {
   "cell_type": "markdown",
   "id": "c73ac892-92f5-4507-8588-8e183e10d4bc",
   "metadata": {},
   "source": [
    "### Sender"
   ]
  },
  {
   "cell_type": "code",
   "execution_count": null,
   "id": "f405b004-4f22-4de9-8f57-d6192f62c1a4",
   "metadata": {},
   "outputs": [],
   "source": [
    "sa.send(packet)"
   ]
  },
  {
   "cell_type": "markdown",
   "id": "bea52cb9-98e5-47d8-8611-64a2babff033",
   "metadata": {},
   "source": [
    "### Receiver"
   ]
  },
  {
   "cell_type": "code",
   "execution_count": null,
   "id": "487fd192-8aff-44b8-bbfe-9db64f91d8b9",
   "metadata": {},
   "outputs": [],
   "source": [
    "def pkt_callback(pkt):\n",
    "    if pkt[\"ICMP\"].type == 8:\n",
    "        print(pkt[\"Raw\"].load, end=\"\")\n",
    "\n",
    "sa.sniff(iface=\"lo\", prn=pkt_callback, filter=\"icmp\", store=0)"
   ]
  },
  {
   "cell_type": "markdown",
   "id": "515f6d1f-7449-4613-85b4-25d4a1ff3b4a",
   "metadata": {},
   "source": [
    "## Task\n",
    "- Modify the code so that it uses UDP instead and sends message letter by letter. Explain differences.\n",
    "- Update your sender to dynamically adjust send time of a packet and introduce a packet loss"
   ]
  },
  {
   "cell_type": "markdown",
   "id": "de3d7470-d969-41ba-9fc5-807a9175bff7",
   "metadata": {},
   "source": [
    "## Audio transmission"
   ]
  },
  {
   "cell_type": "markdown",
   "id": "133b6dfb-563b-4e62-a015-c9722a26fc4f",
   "metadata": {},
   "source": [
    "Following snippet sends audio encapsulated in RTP packet in the form of G.711 encoded samples."
   ]
  },
  {
   "cell_type": "code",
   "execution_count": null,
   "id": "0f9a95d9-8021-4861-80c5-0baaf91fee38",
   "metadata": {},
   "outputs": [],
   "source": [
    "from lib.core import linear_to_alaw, linear_to_ulaw\n",
    "\n",
    "def send_audio_as_rtp(encoding='alaw'):\n",
    "  \"\"\"\n",
    "  Send audio as RTP packets with specified encoding\n",
    "  encoding: 'ulaw' for μ-law or 'alaw' for A-law\n",
    "  \"\"\"\n",
    "  \n",
    "  # Select encoding parameters\n",
    "  if encoding.lower() == 'ulaw':\n",
    "      payload_type = 0  # PCMU\n",
    "      converter = linear_to_ulaw\n",
    "  elif encoding.lower() == 'alaw':\n",
    "      payload_type = 8  # PCMA\n",
    "      converter = linear_to_alaw\n",
    "  else:\n",
    "      raise ValueError(\"Encoding must be 'ulaw' or 'alaw'\")\n",
    "  \n",
    "  # Bind UDP to RTP for the destination port\n",
    "  sa.bind_layers(sa.UDP, sa.RTP, dport=DST_PORT)\n",
    "  \n",
    "  try:\n",
    "      # Read WAV file using scipy\n",
    "      sample_rate, samples = wavfile.read('input.wav')\n",
    "      \n",
    "      # Check audio format\n",
    "      if sample_rate != 8000:\n",
    "          print(\"Error: Audio must be 8000 Hz\")\n",
    "          return\n",
    "          \n",
    "      if samples.dtype != np.int16:\n",
    "          print(\"Error: Audio must be 16-bit PCM\")\n",
    "          return\n",
    "      \n",
    "      \n",
    "      # Calculate packet duration (20ms = 160 samples for 8kHz)\n",
    "      samples_per_packet = 160\n",
    "      \n",
    "      sequence_number = 0\n",
    "      timestamp = 0\n",
    "      \n",
    "      # Process audio in chunks\n",
    "      for i in range(0, len(samples), samples_per_packet):\n",
    "          # Get chunk of samples\n",
    "          chunk = samples[i:i + samples_per_packet]\n",
    "          \n",
    "          # Pad last chunk if necessary\n",
    "          if len(chunk) < samples_per_packet:\n",
    "              chunk = np.pad(chunk, (0, samples_per_packet - len(chunk)))\n",
    "          \n",
    "          # Convert to 8-bit encoded format\n",
    "          encoded_samples = converter(chunk)\n",
    "          \n",
    "          # Create RTP packet using Scapy's RTP layer\n",
    "          packet = sa.IP(dst=DST_IP)/sa.UDP(sport=SRC_PORT, dport=DST_PORT)/sa.RTP(\n",
    "              version=2,\n",
    "              padding=0,\n",
    "              extension=0,\n",
    "              marker=0,\n",
    "              payload_type=payload_type,\n",
    "              sequence=sequence_number,\n",
    "              timestamp=timestamp,\n",
    "              sourcesync=0x12345678\n",
    "          )/sa.Raw(load=bytes(encoded_samples))\n",
    "          \n",
    "          # Send packet\n",
    "          sa.send(packet, verbose=False)\n",
    "          \n",
    "          # Update sequence number and timestamp\n",
    "          sequence_number = (sequence_number + 1) & 0xFFFF\n",
    "          timestamp = (timestamp + samples_per_packet) & 0xFFFFFFFF\n",
    "          \n",
    "          # Wait to maintain real-time playback (20ms)\n",
    "          time.sleep(0.01)\n",
    "          \n",
    "  except Exception as e:\n",
    "      print(f\"Error processing audio: {e}\")"
   ]
  },
  {
   "cell_type": "code",
   "execution_count": null,
   "id": "fee2bf22-c8e9-4923-9cfe-c0b7b58d23f3",
   "metadata": {},
   "outputs": [],
   "source": [
    "send_audio_as_rtp()"
   ]
  },
  {
   "cell_type": "markdown",
   "id": "a0d78492-4e51-4f00-a10e-6622157bf9e6",
   "metadata": {},
   "source": [
    "## Task\n",
    "- Use tcpdump/wireshark to sniff and listen to audio.\n",
    "- Based on information gained, assess the effectiveness and efficiecy of the code.\n",
    "- Introduce variable delays and/or packet loss.\n",
    "- Evaluate transmitted audio.\n",
    "- Visualize losses and/or delays.\n",
    "\n",
    "When done, continue with the activity according to the guide specified in the README.md."
   ]
  }
 ],
 "metadata": {
  "kernelspec": {
   "display_name": "Python 3 (ipykernel)",
   "language": "python",
   "name": "python3"
  },
  "language_info": {
   "codemirror_mode": {
    "name": "ipython",
    "version": 3
   },
   "file_extension": ".py",
   "mimetype": "text/x-python",
   "name": "python",
   "nbconvert_exporter": "python",
   "pygments_lexer": "ipython3",
   "version": "3.12.3"
  }
 },
 "nbformat": 4,
 "nbformat_minor": 5
}
