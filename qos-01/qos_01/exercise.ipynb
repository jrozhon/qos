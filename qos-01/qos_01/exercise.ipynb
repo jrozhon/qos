{
 "cells": [
  {
   "cell_type": "markdown",
   "id": "ecba0e97-4422-4a89-b4b1-66ca010f9e42",
   "metadata": {},
   "source": [
    "# Imports"
   ]
  },
  {
   "cell_type": "code",
   "execution_count": null,
   "id": "946a163a-254c-418e-963c-48653fe53ce2",
   "metadata": {},
   "outputs": [],
   "source": [
    "import numpy as np\n",
    "import panel as pn\n",
    "\n",
    "from bokeh.models import ColumnDataSource, Slider, TextInput, Button\n",
    "from functools import partial\n",
    "\n",
    "from lib.core import NoiseSignal, HarmSignal\n",
    "\n",
    "pn.extension()"
   ]
  },
  {
   "cell_type": "code",
   "execution_count": null,
   "id": "0fd99b3d-f46e-45ce-b752-d544f37d41c4",
   "metadata": {},
   "outputs": [],
   "source": [
    "MARKDOWN_TEXT_STYLES = {'font-size': '24px'}\n",
    "rng = np.random.default_rng()\n",
    "combined = None"
   ]
  },
  {
   "cell_type": "markdown",
   "id": "6c81010d-babc-4cb8-a7de-28bffb653ee3",
   "metadata": {},
   "source": [
    "# Basic model"
   ]
  },
  {
   "cell_type": "markdown",
   "id": "f8ffbcff-56c0-4dc0-9287-7b449b64ca8e",
   "metadata": {},
   "source": [
    "## Enter your implementation of following functions AFTER you try to model your example"
   ]
  },
  {
   "cell_type": "code",
   "execution_count": null,
   "id": "7f17b0d5-12ea-43cc-a389-a097883f8851",
   "metadata": {},
   "outputs": [],
   "source": [
    "from lib.core import calc_channel_capacity\n",
    "from lib.core import calc_signal_power\n",
    "\n",
    "# How to calculate attributes of the Channel\n",
    "#def calc_signal_power(*args, **kwargs):\n",
    "#    signal_power = np.nan\n",
    "#    return signal_power\n",
    "\n",
    "#def calc_channel_capacity(*args, **kwargs):\n",
    "#    channel_capacity = np.nan\n",
    "#    return channel_capacity"
   ]
  },
  {
   "cell_type": "markdown",
   "id": "4abc0fe5-1a9a-4636-b249-2e3c8cedf883",
   "metadata": {},
   "source": [
    "## Model basic scenarios"
   ]
  },
  {
   "cell_type": "code",
   "execution_count": null,
   "id": "6cbe09ee-1f95-4b0e-b86a-1ee481782c31",
   "metadata": {},
   "outputs": [],
   "source": [
    "def calculate(signal, signal_power, noise, noise_power, snr, _):\n",
    "    #global signal, noise, snr\n",
    "    _sp = calc_signal_power(signal.y)\n",
    "    _np = calc_signal_power(noise.y)\n",
    "    _snr = _sp / _np\n",
    "    _cc = calc_channel_capacity(_sp, _np, signal.band.value)\n",
    "    \n",
    "    signal_power.object = f\"{_sp:.3f}\"\n",
    "    noise_power.object = f\"{_np:.3f}\"\n",
    "    snr.object = f\"{_snr:.3f}\"\n",
    "    channel_capacity.object = f\"{_cc:.3f}\"\n",
    "    \n",
    "    return\n",
    "\n",
    "signal = HarmSignal(f=np.sin, amplitude=1, freq=1, no_samples=1000, title=\"Signal\")\n",
    "noise = NoiseSignal(amplitude=.1, f=rng.normal, no_samples=1000, title=\"Noise\")\n",
    "\n",
    "combined = signal+noise\n",
    "\n",
    "# initial values to print to the user\n",
    "# np.abs(input_signal)**2 = power_signal   \n",
    "\n",
    "signal_power = pn.pane.Markdown(f\"{np.nan}\", styles=MARKDOWN_TEXT_STYLES)\n",
    "noise_power = pn.pane.Markdown(f\"{np.nan}\", styles=MARKDOWN_TEXT_STYLES)\n",
    "snr = pn.pane.Markdown(f\"{np.nan}\", styles=MARKDOWN_TEXT_STYLES)\n",
    "channel_capacity = pn.pane.Markdown(f\"{np.nan}\", styles=MARKDOWN_TEXT_STYLES)\n",
    "\n",
    "button = Button(label=\"Calculate\", button_type=\"primary\")\n",
    "button.on_click(partial(calculate, signal, signal_power, noise, noise_power, snr))\n",
    "\n",
    "\n",
    "# layout\n",
    "p = pn.Column( \n",
    "    pn.pane.Markdown(\"# Signal and Noise\"),\n",
    "    pn.Row(\n",
    "        pn.Column(\n",
    "            signal.amplitude,\n",
    "            signal.freq,\n",
    "            signal.phase,\n",
    "            signal.band\n",
    "        ),\n",
    "        signal.plot,\n",
    "        pn.Spacer(width=50),\n",
    "        combined.plot if combined else None\n",
    "    ),\n",
    "    pn.Row(\n",
    "        pn.Column(\n",
    "            noise.amplitude,\n",
    "        ),\n",
    "        noise.plot,\n",
    "        pn.Spacer(width=50),\n",
    "        pn.Column(\n",
    "            pn.Spacer(height=20),\n",
    "            button,\n",
    "            pn.GridBox(\n",
    "                pn.pane.Markdown(\"**Signal Power:** \", styles=MARKDOWN_TEXT_STYLES), signal_power, pn.pane.Markdown(\"W\", styles=MARKDOWN_TEXT_STYLES),\n",
    "                pn.pane.Markdown(\"**Noise Power:** \", styles=MARKDOWN_TEXT_STYLES), noise_power,pn.pane.Markdown(\"W\", styles=MARKDOWN_TEXT_STYLES),\n",
    "                pn.pane.Markdown(\"**SNR:** \", styles=MARKDOWN_TEXT_STYLES), snr, pn.pane.Markdown(\"[-]\", styles=MARKDOWN_TEXT_STYLES),\n",
    "                pn.pane.Markdown(\"**Channel Capacity:** \", styles=MARKDOWN_TEXT_STYLES), channel_capacity, pn.pane.Markdown(\"bits/s\", styles=MARKDOWN_TEXT_STYLES),\n",
    "                ncols = 3\n",
    "            ),\n",
    "        )\n",
    "    )\n",
    ")\n",
    "p"
   ]
  },
  {
   "cell_type": "markdown",
   "id": "c4e003f3-1580-4496-92c8-87823491d1a0",
   "metadata": {},
   "source": [
    "# Questions"
   ]
  },
  {
   "cell_type": "markdown",
   "id": "757ef0be-37a8-463b-80eb-b4283dbf1a08",
   "metadata": {},
   "source": [
    "- What is the default/common unit used for SNR?\n",
    "- How is the channel capacity affected by the use of MIMO?"
   ]
  },
  {
   "cell_type": "markdown",
   "id": "0088f6a0-4f59-4202-ae16-c93eccb6bbc4",
   "metadata": {},
   "source": [
    "# Tasks"
   ]
  },
  {
   "cell_type": "markdown",
   "id": "aa4f0981-05e1-458f-b790-df78168f403e",
   "metadata": {},
   "source": [
    "- Generate an audio signal (voice preferably) and apply Gaussian White Noise on it.\n",
    "- Do the same with a picture."
   ]
  }
 ],
 "metadata": {
  "kernelspec": {
   "display_name": "Python 3 (ipykernel)",
   "language": "python",
   "name": "python3"
  },
  "language_info": {
   "codemirror_mode": {
    "name": "ipython",
    "version": 3
   },
   "file_extension": ".py",
   "mimetype": "text/x-python",
   "name": "python",
   "nbconvert_exporter": "python",
   "pygments_lexer": "ipython3",
   "version": "3.12.3"
  }
 },
 "nbformat": 4,
 "nbformat_minor": 5
}
