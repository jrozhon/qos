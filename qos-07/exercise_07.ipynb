{
 "cells": [
  {
   "cell_type": "markdown",
   "metadata": {},
   "source": [
    "# Software-Defined Networks Emulation in Mininet"
   ]
  },
  {
   "cell_type": "markdown",
   "metadata": {},
   "source": [
    "Mininet is a network emulator that allows for rapid development of vast network architectures. Its limits lie with the hardware limits of the platform that runs the mininet. In this course, we will discuss some basic usage of mininet to emulate various network topologies.\n",
    "\n",
    "**IMPORTANT:** Mininet's *mn* wrapper works as a CLI so we cannot use it in the Jupyter. Instead, please use the remote console to the servers having the mininet package installed and ready. These servers are at:\n",
    "\n",
    "You can log in using standard ssh connection. From the terminal in your computer please use the following command.\n",
    "\n",
    "```bash\n",
    "ssh student@10.100.0.XX\n",
    "ssh student@158.196.244.134 -p XX22  \n",
    "\n",
    "XX: 41-53\n",
    "\n",
    "sudo mn -c\n",
    "```\n",
    "The password for the connection is **student**.\n",
    "\n"
   ]
  },
  {
   "cell_type": "markdown",
   "metadata": {},
   "source": [
    "## Running Mininet"
   ]
  },
  {
   "cell_type": "markdown",
   "metadata": {},
   "source": [
    "To define a custom topology, you can use a sceleton class in the cell below."
   ]
  },
  {
   "cell_type": "code",
   "execution_count": null,
   "metadata": {},
   "outputs": [],
   "source": [
    "#Topology created with loops. STP should prevent loops.\n",
    "\n",
    "from mininet.topo import Topo\n",
    "from mininet.net import Mininet\n",
    "from mininet.cli import CLI\n",
    "from mininet.node import OVSSwitch\n",
    "\n",
    "class CustomTopology(Topo):\n",
    "    def build(self):\n",
    "        # Add switches\n",
    "        s1 = self.addSwitch('s1', cls=OVSSwitch)\n",
    "        s2 = self.addSwitch('s2', cls=OVSSwitch)\n",
    "        s3 = self.addSwitch('s3', cls=OVSSwitch)\n",
    "\n",
    "        # Add hosts\n",
    "        h1 = self.addHost('h1')\n",
    "        h2 = self.addHost('h2')\n",
    "        h3 = self.addHost('h3')\n",
    "\n",
    "        # Add links with loops\n",
    "        self.addLink(s1, s2)\n",
    "        self.addLink(s2, s3)\n",
    "        self.addLink(s3, s1)\n",
    "        self.addLink(s1, h1)\n",
    "        self.addLink(s2, h2)\n",
    "        self.addLink(s3, h3)\n",
    "\n",
    "def run_topology():\n",
    "    topo = CustomTopology()\n",
    "    net = Mininet(topo=topo, controller=None, switch=OVSSwitch)  # Set switch type and disable default controller\n",
    "\n",
    "    # This topology has intentional loops, and the Spanning Tree Protocol (STP) is employed to prevent broadcast storms and ensure a loop-free topology.\n",
    "    net.start()\n",
    "\n",
    "    # Print network configuration\n",
    "    print(\"Topology created with loops. STP should prevent loops.\")\n",
    "\n",
    "    # Start the CLI\n",
    "    CLI(net)\n",
    "\n",
    "    net.stop()\n",
    "\n",
    "if __name__ == '__main__':\n",
    "    run_topology()\n"
   ]
  },
  {
   "cell_type": "code",
   "execution_count": null,
   "metadata": {},
   "outputs": [],
   "source": [
    "from mininet.net import Mininet\n",
    "from mininet.topo import Topo\n",
    "from mininet.node import OVSSwitch, Controller\n",
    "from mininet.link import TCLink\n",
    "\n",
    "class CustomTopology(Topo):\n",
    "    def build(self):\n",
    "        # Add switches\n",
    "        s1 = self.addSwitch('s1')\n",
    "        s2 = self.addSwitch('s2')\n",
    "\n",
    "        # Add hosts\n",
    "        h1 = self.addHost('h1', ip='10.0.0.1/24')\n",
    "        h2 = self.addHost('h2', ip='10.0.0.2/24')\n",
    "        h3 = self.addHost('h3', ip='10.0.0.3/24')\n",
    "        h4 = self.addHost('h4', ip='10.0.0.4/24')\n",
    "\n",
    "        # Add links with QoS parameters\n",
    "        self.addLink(h1, s1, bw=1000, delay='1ms', loss=0, max_queue_size=1000, use_htb=True)\n",
    "        self.addLink(h2, s1, bw=1000, delay='1ms', loss=0, max_queue_size=1000, use_htb=True)\n",
    "        self.addLink(h3, s2, bw=1000, delay='1ms', loss=0, max_queue_size=1000, use_htb=True)\n",
    "        self.addLink(h4, s2, bw=1000, delay='1ms', loss=0, max_queue_size=1000, use_htb=True)\n",
    "        self.addLink(s1, s2, bw=1000, delay='5ms', loss=0, max_queue_size=1000, use_htb=True)\n",
    "\n",
    "def start_mininet():\n",
    "    topo = CustomTopology()\n",
    "    net = Mininet(topo=topo, switch=OVSSwitch, link=TCLink, controller=Controller)\n",
    "    net.start()\n",
    "\n",
    "    # Set QoS parameters for hosts\n",
    "    for host in net.hosts:\n",
    "        host.cmd('tc qdisc add dev {}-eth0 root handle 1: htb default 11'.format(host.name))\n",
    "        host.cmd('tc class add dev {}-eth0 parent 1: classid 1:1 htb rate 1000mbit'.format(host.name))\n",
    "        host.cmd('tc class add dev {}-eth0 parent 1:1 classid 1:11 htb rate 1000mbit'.format(host.name))\n",
    "        host.cmd('tc qdisc add dev {}-eth0 parent 1:11 handle 10: netem delay 5ms'.format(host.name))\n",
    "\n",
    "    net.interact()\n",
    "\n",
    "if __name__ == '__main__':\n",
    "    start_mininet()\n"
   ]
  },
  {
   "cell_type": "code",
   "execution_count": null,
   "metadata": {},
   "outputs": [],
   "source": [
    "from mininet.topo import Topo\n",
    "from mininet.net import Mininet\n",
    "from mininet.node import CPULimitedHost\n",
    "from mininet.link import TCLink\n",
    "from mininet.util import dumpNodeConnections\n",
    "\n",
    "class CustomTopology(Topo):\n",
    "    def build(self):\n",
    "        # Add two hosts, one switch, and a controller\n",
    "        h1 = self.addHost('h1')\n",
    "        h2 = self.addHost('h2')\n",
    "        s1 = self.addSwitch('s1')\n",
    "        c0 = self.addController('c0')\n",
    "\n",
    "        # Add links with custom bandwidth and delay\n",
    "        self.addLink(h1, s1, bw=10, delay='5ms', max_queue_size=1000, use_tbf=True)\n",
    "        self.addLink(h2, s1, bw=5, delay='10ms', max_queue_size=1000, use_tbf=True)\n",
    "\n",
    "def run_custom_topology():\n",
    "    topo = CustomTopology()\n",
    "    net = Mininet(topo=topo, host=CPULimitedHost, link=TCLink)\n",
    "    net.start()\n",
    "\n",
    "    print(\"Dumping host connections\")\n",
    "    dumpNodeConnections(net.hosts)\n",
    "\n",
    "    # Set DSCP code for traffic from h1 to h2\n",
    "    h1, h2 = net.get('h1', 'h2')\n",
    "    h1.cmd('tc qdisc add dev h1-eth0 root handle 1: htb default 1')\n",
    "    h1.cmd('tc class add dev h1-eth0 parent 1: classid 1:1 htb rate 10mbit')\n",
    "    h1.cmd('tc filter add dev h1-eth0 parent 1: protocol ip prio 1 u32 match ip dscp 10 0xff flowid 1:1')\n",
    "\n",
    "    # Start a simple HTTP server on h2\n",
    "    h2.cmd('python -m SimpleHTTPServer 80 &')\n",
    "\n",
    "    # Test connectivity\n",
    "    net.pingAll()\n",
    "\n",
    "    # Stop the network\n",
    "    net.stop()\n",
    "\n",
    "if __name__ == '__main__':\n",
    "    run_custom_topology()\n"
   ]
  },
  {
   "cell_type": "markdown",
   "metadata": {},
   "source": [
    "### Task"
   ]
  },
  {
   "cell_type": "markdown",
   "metadata": {},
   "source": [
    "* Add network loss to the topology as well.\n",
    "* Measure the network performance using iperf tool."
   ]
  }
 ],
 "metadata": {
  "kernelspec": {
   "display_name": "Python 3",
   "language": "python",
   "name": "python3"
  },
  "language_info": {
   "codemirror_mode": {
    "name": "ipython",
    "version": 3
   },
   "file_extension": ".py",
   "mimetype": "text/x-python",
   "name": "python",
   "nbconvert_exporter": "python",
   "pygments_lexer": "ipython3",
   "version": "3.6.7"
  }
 },
 "nbformat": 4,
 "nbformat_minor": 2
}
