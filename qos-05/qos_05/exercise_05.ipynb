{
 "cells": [
  {
   "cell_type": "markdown",
   "metadata": {},
   "source": [
    "# Software-Defined Networks Emulation in Mininet"
   ]
  },
  {
   "cell_type": "markdown",
   "metadata": {},
   "source": [
    "Mininet is a network emulator that allows for rapid development of vast network architectures. Its limits lie with the hardware limits of the platform that runs the mininet. In this course, we will discuss some basic usage of mininet to emulate various network topologies.\n",
    "\n",
    "**IMPORTANT:** Mininet's *mn* wrapper works as a CLI so we cannot use it in the Jupyter. Instead, please use the remote console to the servers having the mininet package installed and ready. These servers are at:\n",
    "\n",
    "* sdn1  - 10.2.1.131\n",
    "* sdn2  - 10.2.1.132\n",
    "* sdn3  - 10.2.1.133\n",
    "* sdn4  - 10.2.1.134\n",
    "* sdn5  - 10.2.1.135\n",
    "* sdn6  - 10.2.1.136\n",
    "* sdn7  - 10.2.1.137\n",
    "* sdn8  - 10.2.1.138\n",
    "* sdn9  - 10.2.1.139\n",
    "* sdn10 - 10.2.1.140\n",
    "* sdn11 - 10.2.1.141\n",
    "* sdn12 - 10.2.1.142\n",
    "* sdn13 - 10.2.1.143\n",
    "\n",
    "You can log in using standard ssh connection. From the terminal in your computer please use the following command.\n",
    "\n",
    "```bash\n",
    "ssh student@10.2.1.X\n",
    "```\n",
    "The password for the connection is **student**.\n",
    "\n",
    "When you successfully log in, please elevate your permission level to root user, since mininet can only be used by root users.\n",
    "\n",
    "```bash\n",
    "su -\n",
    "```\n",
    "Password is again **student**."
   ]
  },
  {
   "cell_type": "markdown",
   "metadata": {},
   "source": [
    "## Running Mininet"
   ]
  },
  {
   "cell_type": "markdown",
   "metadata": {},
   "source": [
    "Mininet can be run using its Python API. However, for most cases we use an interactive console provided by the *mn* wrapper. The simplest topology mininet can run can be invoked by the following command:"
   ]
  },
  {
   "cell_type": "markdown",
   "metadata": {},
   "source": [
    "```bash\n",
    "mn\n",
    "```"
   ]
  },
  {
   "cell_type": "markdown",
   "metadata": {},
   "source": [
    "## Hosts act as real Linux servers"
   ]
  },
  {
   "cell_type": "markdown",
   "metadata": {},
   "source": [
    "Hosts can be treated similarly as usual Linux servers. Let's see the IP configuration of the host h1.\n",
    "\n",
    "```bash\n",
    "mininet> h1 ip a\n",
    "```\n",
    "\n",
    "This will output very familiar information:\n",
    "\n",
    "```text\n",
    "1: lo: <LOOPBACK,UP,LOWER_UP> mtu 65536 qdisc noqueue state UNKNOWN group default qlen 1000\n",
    "    link/loopback 00:00:00:00:00:00 brd 00:00:00:00:00:00\n",
    "    inet 127.0.0.1/8 scope host lo\n",
    "       valid_lft forever preferred_lft forever\n",
    "    inet6 ::1/128 scope host \n",
    "       valid_lft forever preferred_lft forever\n",
    "2: h1-eth0@if11: <BROADCAST,MULTICAST,UP,LOWER_UP> mtu 1500 qdisc noqueue state UP group default qlen 1000\n",
    "    link/ether ea:21:6a:29:c0:5e brd ff:ff:ff:ff:ff:ff link-netnsid 0\n",
    "    inet 10.0.0.1/8 brd 10.255.255.255 scope global h1-eth0\n",
    "       valid_lft forever preferred_lft forever\n",
    "    inet6 fe80::e821:6aff:fe29:c05e/64 scope link \n",
    "       valid_lft forever preferred_lft forever\n",
    "```\n",
    "\n",
    "Here, you can see that the host actually has a network interface with both MAC and IP addresses assigned. This is and example of how to run a single command on the emulated host. But, what if we need to do some more complex stuff? We can switch to the host's console by invoking **bash**.\n",
    "\n",
    "```bash\n",
    "mininet> h1 bash\n",
    "```\n",
    "\n",
    "There, you can for example run a tcpdump command. If you want to return to the mininet console, just type **exit**."
   ]
  },
  {
   "cell_type": "markdown",
   "metadata": {},
   "source": [
    "### Task"
   ]
  },
  {
   "cell_type": "markdown",
   "metadata": {},
   "source": [
    "Please try to issue the commands below and investigate the output.\n",
    "\n",
    "```bash\n",
    "mininet> nodes\n",
    "mininet> net\n",
    "mininet> dump\n",
    "```"
   ]
  },
  {
   "cell_type": "markdown",
   "metadata": {},
   "source": [
    "To run this topology, you can use the following command, which assumes that the file with the topology is called **ex.py**. **Important** for the network parameters to work as expected, **the link type must be set to tc**.\n",
    "\n",
    "```bash\n",
    "mn --custom=ex.py --topo mytopo --mac --link tc\n",
    "```"
   ]
  }
 ],
 "metadata": {
  "kernelspec": {
   "display_name": "Python 3",
   "language": "python",
   "name": "python3"
  },
  "language_info": {
   "codemirror_mode": {
    "name": "ipython",
    "version": 3
   },
   "file_extension": ".py",
   "mimetype": "text/x-python",
   "name": "python",
   "nbconvert_exporter": "python",
   "pygments_lexer": "ipython3",
   "version": "3.11.3"
  }
 },
 "nbformat": 4,
 "nbformat_minor": 2
}
