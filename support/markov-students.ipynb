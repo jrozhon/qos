{
 "cells": [
  {
   "cell_type": "code",
   "execution_count": 1,
   "metadata": {},
   "outputs": [],
   "source": [
    "import numpy as np\n",
    "import decimal as d\n",
    "d.getcontext().prec = 3"
   ]
  },
  {
   "cell_type": "code",
   "execution_count": 2,
   "metadata": {},
   "outputs": [],
   "source": [
    "class MarkovChain(object):\n",
    "    \"\"\" General Markov Chain Class.\"\"\"\n",
    "    def __init__(self, state_dict, state):\n",
    "        self.state_dict = state_dict\n",
    "        self.state = state\n",
    "        if state not in list(state_dict.keys()):\n",
    "            print(\"Warning. Given state is not in the State Dictionary. Defaulting to first state.\")\n",
    "            self.state = list(state_dict.keys())[0]\n",
    "\n",
    "    def check_state(self, display = True):\n",
    "        if display:\n",
    "            print(\"Current State: %s\" % (self.state))\n",
    "        return self.state\n",
    "\n",
    "    def set_state(self, state):\n",
    "        self.state = state\n",
    "        print(\"State is now: %s\" % (self.state))\n",
    "\n",
    "    def next_state(self):\n",
    "        A = self.state_dict[self.state]\n",
    "        self.state = np.random.choice(a=list(A[0]), p=list(A[1]))"
   ]
  },
  {
   "cell_type": "code",
   "execution_count": 3,
   "metadata": {},
   "outputs": [],
   "source": [
    "p13 = 0.0\n",
    "p31 = 0.0\n",
    "p32 = 0.0\n",
    "p23 = 0.0\n",
    "p14 = 0.0\n",
    "p41 = 1\n",
    "\n",
    "#####################################################\n",
    "p11 = 1 - d.Decimal(str(p13)) - d.Decimal(str(p14))\n",
    "p22 = 1 - d.Decimal(str(p23))\n",
    "p33 = 1 - d.Decimal(str(p31)) - d.Decimal(str(p32))\n",
    "\n",
    "state_dict = {'1': np.array([['1', '3', '4'],\n",
    "                             [p11, p13, p14]]),\n",
    "              '2': np.array([['2', '3'],\n",
    "                             [p22, p23]]),\n",
    "              '3': np.array([['1', '2', '3'],\n",
    "                             [p31, p32, p33]]),\n",
    "              '4': np.array([['1'],\n",
    "                             [p41]])}\n"
   ]
  }
 ],
 "metadata": {
  "kernelspec": {
   "display_name": "Python 3",
   "language": "python",
   "name": "python3"
  },
  "language_info": {
   "codemirror_mode": {
    "name": "ipython",
    "version": 3
   },
   "file_extension": ".py",
   "mimetype": "text/x-python",
   "name": "python",
   "nbconvert_exporter": "python",
   "pygments_lexer": "ipython3",
   "version": "3.6.7"
  }
 },
 "nbformat": 4,
 "nbformat_minor": 2
}
