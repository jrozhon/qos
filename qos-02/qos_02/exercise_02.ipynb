{
 "cells": [
  {
   "cell_type": "code",
   "execution_count": 1,
   "id": "ee6d1b23-91f8-4940-a540-992e78537d7a",
   "metadata": {},
   "outputs": [],
   "source": [
    "import simpy\n",
    "from lib.core import NetworkTap, Switch, PacketSource"
   ]
  },
  {
   "cell_type": "code",
   "execution_count": 2,
   "id": "b85f7406-956c-488f-b0ac-56c3baaca26f",
   "metadata": {},
   "outputs": [
    {
     "name": "stdout",
     "output_type": "stream",
     "text": [
      "----- Network Tap Statistics -----\n",
      "Total Packets Observed: 10\n",
      "Total Size of Packets: 10 units\n",
      "Average Packet Size: 1.00 units\n",
      "Average Inter-Arrival Time: 1.11 time units\n",
      "------------------------------\n"
     ]
    }
   ],
   "source": [
    "env = simpy.Environment()\n",
    "\n",
    "# Create a tap to monitor traffic\n",
    "tap = NetworkTap(env)\n",
    "\n",
    "switch = Switch(env, num_ports=2, port_capacity=10, port_transmission_rate=1)\n",
    "# Attach tap to the first port of the switch\n",
    "switch.ports[0].tap = tap\n",
    "\n",
    "# The rest remains the same:\n",
    "source_A = PacketSource(env, switch, source_id='A', destination='B', interval=2, packet_size=1)\n",
    "source_B = PacketSource(env, switch, source_id='B', destination='A', interval=3, packet_size=1)\n",
    "\n",
    "env.process(source_A.start())\n",
    "env.process(source_B.start())\n",
    "\n",
    "env.run(until=50)\n",
    "\n",
    "# Display tap statistics at the end\n",
    "tap.display_statistics()\n"
   ]
  }
 ],
 "metadata": {
  "kernelspec": {
   "display_name": "Python 3 (ipykernel)",
   "language": "python",
   "name": "python3"
  },
  "language_info": {
   "codemirror_mode": {
    "name": "ipython",
    "version": 3
   },
   "file_extension": ".py",
   "mimetype": "text/x-python",
   "name": "python",
   "nbconvert_exporter": "python",
   "pygments_lexer": "ipython3",
   "version": "3.11.4"
  }
 },
 "nbformat": 4,
 "nbformat_minor": 5
}
