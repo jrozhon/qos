{
 "cells": [
  {
   "cell_type": "code",
   "execution_count": 41,
   "id": "c5f1a6ff",
   "metadata": {},
   "outputs": [],
   "source": [
    "# Import Image from wand.image module\n",
    "from wand.image import Image\n",
    "\n",
    "# Read image using Image() function\n",
    "with Image(filename =\"lenna.png\") as img:\n",
    "\n",
    "\t# Generate noise image using noise() function\n",
    "\timg.noise(\"poisson\", attenuate = 0.9)\n",
    "\timg.save(filename =\"lenna1.png\")\n"
   ]
  },
  {
   "cell_type": "code",
   "execution_count": 42,
   "id": "8eee28f1",
   "metadata": {},
   "outputs": [
    {
     "name": "stdout",
     "output_type": "stream",
     "text": [
      "PSNR is 14.466071924422781 dB\n"
     ]
    }
   ],
   "source": [
    "##PSNR (Peak Signal-to-Noise Ratio:\n",
    "#pip install opencv-python\n",
    "\n",
    "import math\n",
    "import numpy as np\n",
    "import cv2\n",
    "\n",
    "img_orig = cv2.imread(\"lenna.png\")\n",
    "img_compress = cv2.imread(\"lenna1.png\") \n",
    "\n",
    "\n",
    "def calculate_psnr(img1, img2):\n",
    "    # img1 and img2 have range [0, 255]\n",
    "    img1 = img1.astype(np.float64)\n",
    "    img2 = img2.astype(np.float64)\n",
    "    mse = np.mean((img1 - img2)**2)\n",
    "    if mse == 0:\n",
    "        return float('inf')\n",
    "    return 20 * math.log10(255.0 / math.sqrt(mse))\n",
    "\n",
    "\n",
    "print(\"PSNR is {} dB\".format(calculate_psnr(img_orig, img_compress)))"
   ]
  }
 ],
 "metadata": {
  "kernelspec": {
   "display_name": "Python 3 (ipykernel)",
   "language": "python",
   "name": "python3"
  },
  "language_info": {
   "codemirror_mode": {
    "name": "ipython",
    "version": 3
   },
   "file_extension": ".py",
   "mimetype": "text/x-python",
   "name": "python",
   "nbconvert_exporter": "python",
   "pygments_lexer": "ipython3",
   "version": "3.11.3"
  }
 },
 "nbformat": 4,
 "nbformat_minor": 5
}
